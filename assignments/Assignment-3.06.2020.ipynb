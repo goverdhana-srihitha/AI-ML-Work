{
 "cells": [
  {
   "cell_type": "markdown",
   "metadata": {},
   "source": [
    "## Name : G Sai Srihitha \n",
    "### 221710402014\n",
    "### Assignment : Day(9) - 3-06-2020"
   ]
  },
  {
   "cell_type": "markdown",
   "metadata": {},
   "source": [
    "## Question 1:\n",
    "[Reverse]\n",
    "#### Copy the contents of a text file into another, printing the reversed version of each input line\n"
   ]
  },
  {
   "cell_type": "code",
   "execution_count": 7,
   "metadata": {},
   "outputs": [
    {
     "name": "stdout",
     "output_type": "stream",
     "text": [
      "Full Stack , Advance Programming , AI and ML through Python , Data Science \n",
      "\n",
      "  ecneicS ataD , nohtyP hguorht LM dna IA , gnimmargorP ecnavdA , kcatS lluF\n"
     ]
    }
   ],
   "source": [
    "# Full reversing\n",
    "f = open(\"file1.txt\", \"w\")\n",
    "f.write(\"Full Stack , Advance Programming , AI and ML through Python , Data Science \")\n",
    "f.close()\n",
    "\n",
    "f = open(\"file1.txt\", \"r\")\n",
    "data = f.read()\n",
    "print(data)\n",
    "f.close()\n",
    "\n",
    "\n",
    "f = open(\"file2.txt\", \"w\")\n",
    "f.write(data[::-1])\n",
    "f.close()\n",
    "\n",
    "f = open(\"file2.txt\", \"r\")\n",
    "data = f.read()\n",
    "print(\"\\n\",data)\n",
    "f.close()\n"
   ]
  },
  {
   "cell_type": "markdown",
   "metadata": {},
   "source": [
    "## Question 2:\n",
    "[Number Lines] \n",
    "#### Print the contents of a file line by line putting a line number for each line.\n"
   ]
  },
  {
   "cell_type": "code",
   "execution_count": 15,
   "metadata": {},
   "outputs": [
    {
     "name": "stdout",
     "output_type": "stream",
     "text": [
      "Contents of file in oder : \n",
      "1 . Full Stack , Advance Programming , AI and ML through Python , Data Science\n"
     ]
    }
   ],
   "source": [
    "R = [\"Full Stack \\n \", \"Advance Programming\\n\" , \"AI and ML through Python\\n\" , \"Data Science\\n \"]\n",
    "\n",
    "f1 = open(\"file.txt\" , \"w\")\n",
    "f1.writelines(R)\n",
    "f1.close()\n",
    "\n",
    "f1 = open(\"file1.txt\",\"r\")\n",
    "count = 0 \n",
    "\n",
    "print(\"Contents of file in oder : \")\n",
    "for line in f1 :\n",
    "    count +=1\n",
    "    print(\"{} . {}\".format(count,line.strip()))\n",
    "f1.close()    "
   ]
  },
  {
   "cell_type": "markdown",
   "metadata": {},
   "source": [
    "## "
   ]
  }
 ],
 "metadata": {
  "kernelspec": {
   "display_name": "Python 3",
   "language": "python",
   "name": "python3"
  },
  "language_info": {
   "codemirror_mode": {
    "name": "ipython",
    "version": 3
   },
   "file_extension": ".py",
   "mimetype": "text/x-python",
   "name": "python",
   "nbconvert_exporter": "python",
   "pygments_lexer": "ipython3",
   "version": "3.6.1"
  }
 },
 "nbformat": 4,
 "nbformat_minor": 2
}
