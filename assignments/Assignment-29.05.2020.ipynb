{
 "cells": [
  {
   "cell_type": "markdown",
   "metadata": {},
   "source": [
    "## Name : G Sai Srihitha\n",
    "### Pin No : 221710402014 \n",
    "### Assignment 3 -(29.05.2020)\n"
   ]
  },
  {
   "cell_type": "code",
   "execution_count": 37,
   "metadata": {},
   "outputs": [
    {
     "name": "stdout",
     "output_type": "stream",
     "text": [
      "Enter the value : 5\n",
      "Factorial of given number is: 120\n"
     ]
    }
   ],
   "source": [
    "#1. Create a function to find Factorial of a number using Recursion\n",
    "def factorial(n):\n",
    "    if n==0:\n",
    "        return 1\n",
    "    else :\n",
    "        return (n*factorial(n-1))\n",
    "a=int(input(\"Enter the value : \"))\n",
    "print(\"Factorial of given number is:\",factorial(a))\n"
   ]
  },
  {
   "cell_type": "code",
   "execution_count": 11,
   "metadata": {},
   "outputs": [
    {
     "name": "stdout",
     "output_type": "stream",
     "text": [
      "Enter the value : 5\n",
      "fibonacci Series : \n",
      "0 1 1 2 3 "
     ]
    }
   ],
   "source": [
    "#2. Create a function and display ‘n’ Fibonacci numbers using Recursion\n",
    "def Fibonacci(n):\n",
    "    if n <= 1:\n",
    "        return n\n",
    "    else:\n",
    "        return Fibonacci(n-1) + Fibonacci(n-2)\n",
    "    \n",
    "a=int(input(\"Enter the value : \"))\n",
    "\n",
    "if a <= 0 :\n",
    "    print(\"Invalid Number\")\n",
    "else:\n",
    "    print(\"fibonacci Series : \")\n",
    "for i in range (a):\n",
    "    print(  Fibonacci(i),end = ' ')"
   ]
  },
  {
   "cell_type": "code",
   "execution_count": 16,
   "metadata": {
    "scrolled": false
   },
   "outputs": [
    {
     "name": "stdout",
     "output_type": "stream",
     "text": [
      "Sum of elements in List is : 10\n"
     ]
    }
   ],
   "source": [
    "#3. Print sum of list of elements without using sum() function\n",
    "list=[1,2,3,4]\n",
    "sum=0\n",
    "for i in range (len(list)):\n",
    "    sum=sum+list[i]\n",
    "print(\"Sum of elements in List is :\",sum)"
   ]
  },
  {
   "cell_type": "code",
   "execution_count": 18,
   "metadata": {},
   "outputs": [
    {
     "name": "stdout",
     "output_type": "stream",
     "text": [
      "2 4 6 10 0 "
     ]
    }
   ],
   "source": [
    "#4.print only even numbers from the list\n",
    "list=[1,2,3,4,5,6,10,0]\n",
    "for i in range (len(list)):\n",
    "    if list[i]%2==0:\n",
    "        print(list[i],end=' ')\n"
   ]
  },
  {
   "cell_type": "code",
   "execution_count": 9,
   "metadata": {},
   "outputs": [
    {
     "name": "stdout",
     "output_type": "stream",
     "text": [
      "Smallest number is  1\n",
      "Index : 4\n"
     ]
    }
   ],
   "source": [
    "#5.Write a Python program to get the smallest number from a list and display index of smallest element of the list\n",
    "list=[23,45,12,56,1]\n",
    "for i in range (len(list)):\n",
    "    if list[i]<s:\n",
    "        small=list[i]\n",
    "    \n",
    "        \n",
    "print(\"Smallest number is \",list[i])\n",
    "print(\"Index :\",i)\n",
    "        "
   ]
  },
  {
   "cell_type": "code",
   "execution_count": 16,
   "metadata": {},
   "outputs": [
    {
     "name": "stdout",
     "output_type": "stream",
     "text": [
      "Enter a string: apple\n",
      "Not a Plaindrome\n"
     ]
    }
   ],
   "source": [
    "#6. Write a Python function that checks whether a passed string is palindrome or not.\n",
    "def pali(n):\n",
    "    n1=str(n)\n",
    "    if n1==n[::-1]:\n",
    "        return 'Palindrome'\n",
    "    else:\n",
    "        return \"Not a Plaindrome\"\n",
    "a=input(\"Enter a string: \")\n",
    "print(pali(a))"
   ]
  },
  {
   "cell_type": "code",
   "execution_count": 24,
   "metadata": {},
   "outputs": [
    {
     "name": "stdout",
     "output_type": "stream",
     "text": [
      "Even numbers : 4\n",
      "Odd numbers :  5\n"
     ]
    }
   ],
   "source": [
    "#7.Write a Python program to count the number of even and odd numbers from a series of numbers. \n",
    "l=[1,2,3,4,5,6,7,8,9]\n",
    "e,o=0,0\n",
    "for i in range (len(l)):\n",
    "    if l[i]%2 == 0:\n",
    "        e+=1\n",
    "    else :\n",
    "        o+=1\n",
    "print(\"Even numbers :\",e)\n",
    "print(\"Odd numbers : \",o)\n",
    "        \n",
    "        "
   ]
  },
  {
   "cell_type": "code",
   "execution_count": 26,
   "metadata": {},
   "outputs": [
    {
     "name": "stdout",
     "output_type": "stream",
     "text": [
      "0 1 2 4 5 "
     ]
    }
   ],
   "source": [
    "#8. Write a Python program that prints all the numbers from 0 to 6 except 3 and 6.\n",
    "for i in range (7):\n",
    "    if i%3 == 0 and i!=0:\n",
    "        continue \n",
    "    else :\n",
    "        print(i,end=' ')"
   ]
  },
  {
   "cell_type": "code",
   "execution_count": 33,
   "metadata": {},
   "outputs": [
    {
     "name": "stdout",
     "output_type": "stream",
     "text": [
      "Enter a number : 5\n",
      "Prime Number\n"
     ]
    }
   ],
   "source": [
    "#9. Write a python function to check whether the given number is prime or not\n",
    "def prime(n):\n",
    "    c=0\n",
    "    for i in range (1,n+1):\n",
    "        if a%i == 0:\n",
    "            c+=1\n",
    "    if c>=2:\n",
    "        return \"Prime Number\"\n",
    "    else:\n",
    "        return \"Not a Prime\"\n",
    "a=int(input(\"Enter a number : \"))\n",
    "print(prime(a))\n",
    "    "
   ]
  },
  {
   "cell_type": "code",
   "execution_count": 36,
   "metadata": {},
   "outputs": [
    {
     "name": "stdout",
     "output_type": "stream",
     "text": [
      "Enter a number : 12\n",
      "Adam Number\n"
     ]
    }
   ],
   "source": [
    "#10. Write a python function to check whether the given number is Adam number or not\n",
    "def adam(n):\n",
    "    n1=n*n\n",
    "    n2=str(n)\n",
    "    p=int(n2[::-1])\n",
    "    n3=p*p\n",
    "    n4=str(n3)\n",
    "    if n1 == int(n4[::-1]):\n",
    "        return 'Adam Number' \n",
    "    else :\n",
    "        return 'Not an Adam Number'\n",
    "a=int(input(\"Enter a number : \"))\n",
    "print(adam(a))"
   ]
  }
 ],
 "metadata": {
  "kernelspec": {
   "display_name": "Python 3",
   "language": "python",
   "name": "python3"
  },
  "language_info": {
   "codemirror_mode": {
    "name": "ipython",
    "version": 3
   },
   "file_extension": ".py",
   "mimetype": "text/x-python",
   "name": "python",
   "nbconvert_exporter": "python",
   "pygments_lexer": "ipython3",
   "version": "3.6.1"
  }
 },
 "nbformat": 4,
 "nbformat_minor": 2
}
