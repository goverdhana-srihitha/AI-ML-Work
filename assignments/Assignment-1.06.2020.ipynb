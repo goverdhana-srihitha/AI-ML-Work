{
 "cells": [
  {
   "cell_type": "markdown",
   "metadata": {},
   "source": [
    "### Name : G Sai Srihitha \n",
    "#### 221710402014\n",
    "### Assignment -5 (1.06.2020)"
   ]
  },
  {
   "cell_type": "markdown",
   "metadata": {},
   "source": [
    "## Password Picker"
   ]
  },
  {
   "cell_type": "code",
   "execution_count": 1,
   "metadata": {},
   "outputs": [
    {
     "name": "stdout",
     "output_type": "stream",
     "text": [
      "Welcome password picker\n"
     ]
    }
   ],
   "source": [
    "import string\n",
    "from random import * \n",
    "print(\"Welcome password picker\")\n",
    "adj = [\"Lahari\",\"Raghu\",\"Srikar\",\"Rishi\"]\n",
    "noun = [\"good\",'better',\"best\",\"high\"]\n",
    "digits = string.digits\n",
    "spl_char = string.punctuation"
   ]
  },
  {
   "cell_type": "code",
   "execution_count": null,
   "metadata": {},
   "outputs": [
    {
     "name": "stdout",
     "output_type": "stream",
     "text": [
      "Your Password is :  Raghugood2\"\n",
      "Create New Password\n",
      "Enter Yes for new password and No for geneterating the password: no\n",
      "Enter Yes or No\n",
      "Your Password is :  Laharigood4_\n",
      "Create New Password\n"
     ]
    }
   ],
   "source": [
    "while True:\n",
    "    password = choice(adj) + choice(noun) + choice(digits) + choice(spl_char)\n",
    "    print(\"Your Password is : \",password )\n",
    "    print(\"Create New Password\")\n",
    "    response = input(\"Enter Yes for new password and No for geneterating the password: \")\n",
    "    if response is [\"No\",\"NO\",\"nO\",\"no\"] :\n",
    "        break\n",
    "    elif response is [\"YES\",\"yes\"]:\n",
    "        continue \n",
    "    else :\n",
    "        print(\"Enter Yes or No\")"
   ]
  },
  {
   "cell_type": "code",
   "execution_count": null,
   "metadata": {
    "collapsed": true
   },
   "outputs": [],
   "source": []
  }
 ],
 "metadata": {
  "kernelspec": {
   "display_name": "Python 3",
   "language": "python",
   "name": "python3"
  },
  "language_info": {
   "codemirror_mode": {
    "name": "ipython",
    "version": 3
   },
   "file_extension": ".py",
   "mimetype": "text/x-python",
   "name": "python",
   "nbconvert_exporter": "python",
   "pygments_lexer": "ipython3",
   "version": "3.6.1"
  }
 },
 "nbformat": 4,
 "nbformat_minor": 2
}
