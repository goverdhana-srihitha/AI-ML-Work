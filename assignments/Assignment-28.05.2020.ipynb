{
 "cells": [
  {
   "cell_type": "markdown",
   "metadata": {},
   "source": [
    "### Name : G Sai Srihitha\n",
    "### Pin no: 221710402014\n",
    "### Assignment - 2 (28.05.2020)"
   ]
  },
  {
   "cell_type": "code",
   "execution_count": 2,
   "metadata": {},
   "outputs": [
    {
     "name": "stdout",
     "output_type": "stream",
     "text": [
      "Enter the string: Srihitha@\n",
      "consonant 5  vovels 3 special characters 1 numerics 0\n"
     ]
    }
   ],
   "source": [
    "#1 Accept a string from the user and count no.of vowels,consonants and special characters\n",
    "\n",
    "s=input('Enter the string: ')\n",
    "i=0\n",
    "c=0\n",
    "v=0\n",
    "s1=0\n",
    "n=0\n",
    "while i<len(s):\n",
    "    if s[i]<='z' and s[i]>='a':\n",
    "        if s[i]=='a' or s[i]=='e'or s[i]=='i' or s[i]=='o' or s[i]=='u':\n",
    "            v=v+1\n",
    "        else:\n",
    "            c=c+1\n",
    "    elif s[i]<='Z' and s[i]>='A':\n",
    "        if s[i]=='A' or s[i]=='E'or s[i]=='I' or s[i]=='O' or s[i]=='U':\n",
    "            v=v+1\n",
    "        else:\n",
    "            c=c+1\n",
    "    elif s[i]<='9' and s[i]>='0':\n",
    "        n=n+1\n",
    "    else:\n",
    "        s1=s1+1\n",
    "    i=i+1\n",
    "print('consonant',c,' vovels',v,'special characters',s1,'numerics',n)"
   ]
  },
  {
   "cell_type": "code",
   "execution_count": 1,
   "metadata": {},
   "outputs": [
    {
     "name": "stdout",
     "output_type": "stream",
     "text": [
      "enter the string  aabccbaaa\n",
      "2\n"
     ]
    }
   ],
   "source": [
    "#2 count the no.of pairs of a in the given string(Infosys InfyTQ),string →  \"abbaaccbbaaa\",output →  2\n",
    "s=input('enter the string  ')\n",
    "i=0\n",
    "c=0\n",
    "d=0\n",
    "while i<len(s):\n",
    "    if s[i]=='a':\n",
    "            if i+1<len(s):\n",
    "                if s[i+1]=='a':\n",
    "                    c=c+1\n",
    "                    i=i+1\n",
    "                    while i+1<len(s) and s[i+1]=='a':\n",
    "                        i=i+1\n",
    "      \n",
    "   \n",
    "    i=i+1\n",
    "print(c)\n"
   ]
  },
  {
   "cell_type": "code",
   "execution_count": 4,
   "metadata": {},
   "outputs": [
    {
     "name": "stdout",
     "output_type": "stream",
     "text": [
      "enter the string of () :()(((()))))())\n",
      "6\n"
     ]
    }
   ],
   "source": [
    "#3 \n",
    "s=input('enter the string of () :')\n",
    "i=0\n",
    "c=0\n",
    "while i<len(s):\n",
    "    if s[i]=='(':\n",
    "        if i+1<len(s) and s[i+1]==')':\n",
    "            c=c+2\n",
    "    i=i+1\n",
    "print(c)"
   ]
  },
  {
   "cell_type": "code",
   "execution_count": 6,
   "metadata": {},
   "outputs": [
    {
     "name": "stdout",
     "output_type": "stream",
     "text": [
      "enter the range 1\n",
      "100\n",
      "18\n"
     ]
    }
   ],
   "source": [
    "#4\n",
    "a=int(input('enter the range '))\n",
    "b=int(input())\n",
    "c=0\n",
    "for i in range (a,b+1):\n",
    "    s=str(i)\n",
    "    if s==s[::-1]:\n",
    "        c=c+1\n",
    "print(c)"
   ]
  },
  {
   "cell_type": "code",
   "execution_count": 12,
   "metadata": {},
   "outputs": [
    {
     "name": "stdout",
     "output_type": "stream",
     "text": [
      "enter a number:127\n",
      "848\n"
     ]
    }
   ],
   "source": [
    "#5\n",
    "a=int(input('enter a number:'))\n",
    "s=str(a)\n",
    "p=0\n",
    "if s==s[::-1]:\n",
    "    print(s)\n",
    "else: \n",
    "    while p==0:\n",
    "        a=a+int(s[::-1])\n",
    "        s=str(a)\n",
    "        if s==s[::-1]:\n",
    "            print(s)\n",
    "            p=1"
   ]
  },
  {
   "cell_type": "markdown",
   "metadata": {},
   "source": [
    "#### Q.6 Is not clear"
   ]
  },
  {
   "cell_type": "code",
   "execution_count": 27,
   "metadata": {},
   "outputs": [
    {
     "name": "stdout",
     "output_type": "stream",
     "text": [
      "enter stringadg234bjug56\n",
      "20\n"
     ]
    }
   ],
   "source": [
    "# 7\n",
    "s=input('enter string')\n",
    "s1=0\n",
    "for i in range (0,len(s)):\n",
    "    if s[i].isdigit():\n",
    "        s1=s1+int(s[i])\n",
    "        \n",
    "print(s1)"
   ]
  },
  {
   "cell_type": "code",
   "execution_count": 21,
   "metadata": {},
   "outputs": [
    {
     "name": "stdout",
     "output_type": "stream",
     "text": [
      "enter the mark points: .83\n",
      "B\n"
     ]
    }
   ],
   "source": [
    "#8\n",
    "a=float(input('enter the mark points: '))\n",
    "if a>0.0 and a<1.0:\n",
    "    if a >0.9 and a<1.0:\n",
    "        print('A')\n",
    "    elif a>0.8 and a<0.9:\n",
    "        print('B')\n",
    "    elif a>0.7 and a<0.8:\n",
    "        print('C')\n",
    "    elif a>0.6 and a<0.7:\n",
    "        print('D')\n",
    "    elif a>0.0 and a<0.6:\n",
    "        print('F')\n",
    "else:\n",
    "    print('enter valid points')\n",
    "   "
   ]
  },
  {
   "cell_type": "code",
   "execution_count": null,
   "metadata": {
    "collapsed": true
   },
   "outputs": [],
   "source": []
  },
  {
   "cell_type": "code",
   "execution_count": 23,
   "metadata": {},
   "outputs": [
    {
     "name": "stdout",
     "output_type": "stream",
     "text": [
      "enter the range: 5\n",
      "15\n",
      "Buzz\n",
      "Fizz\n",
      "7\n",
      "8\n",
      "Fizz\n",
      "Buzz\n",
      "11\n",
      "Fizz\n",
      "13\n",
      "14\n",
      "FizzBuzz\n"
     ]
    }
   ],
   "source": [
    "#9\n",
    "a=int(input('enter the range: '))\n",
    "b=int(input())\n",
    "for i in range (a,b+1):\n",
    "    if i%3==0 and i%5==0:\n",
    "        print('FizzBuzz')\n",
    "    elif i%3==0:\n",
    "        print('Fizz')\n",
    "    elif i%5==0:\n",
    "        print('Buzz')\n",
    "    else:\n",
    "        print(i)"
   ]
  },
  {
   "cell_type": "code",
   "execution_count": 25,
   "metadata": {},
   "outputs": [
    {
     "name": "stdout",
     "output_type": "stream",
     "text": [
      "34\n",
      "54\n",
      "30\n",
      "the median is 34\n"
     ]
    }
   ],
   "source": [
    "#10 Write a Python program to find the median of three values.\n",
    "a1=int(input())\n",
    "a2=int(input())\n",
    "a3=int(input())\n",
    "if a1 > a2 and a1>a3:\n",
    "    if a2>a3:\n",
    "        m=(a2)\n",
    "    else:\n",
    "        m=(a3)\n",
    "elif a2 > a1 and a2>a3:\n",
    "    if a1>a3:\n",
    "        m=(a1)\n",
    "    else:\n",
    "        m=(a3)\n",
    "elif a3 > a2 and a3>a1:\n",
    "    if a2>a1:\n",
    "        m=(a2)\n",
    "    else:\n",
    "        m=(a1)\n",
    "print('The Median is',m)"
   ]
  }
 ],
 "metadata": {
  "kernelspec": {
   "display_name": "Python 3",
   "language": "python",
   "name": "python3"
  },
  "language_info": {
   "codemirror_mode": {
    "name": "ipython",
    "version": 3
   },
   "file_extension": ".py",
   "mimetype": "text/x-python",
   "name": "python",
   "nbconvert_exporter": "python",
   "pygments_lexer": "ipython3",
   "version": "3.6.1"
  }
 },
 "nbformat": 4,
 "nbformat_minor": 2
}
