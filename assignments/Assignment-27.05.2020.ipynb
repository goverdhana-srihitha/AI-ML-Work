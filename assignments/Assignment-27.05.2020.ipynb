{
 "cells": [
  {
   "cell_type": "markdown",
   "metadata": {
    "collapsed": true
   },
   "source": [
    "### Name : G. Sai Srihitha\n",
    "### Pin.no: 221710402014\n",
    "### Assignment (27.05.2020)-1"
   ]
  },
  {
   "cell_type": "code",
   "execution_count": 13,
   "metadata": {},
   "outputs": [
    {
     "name": "stdout",
     "output_type": "stream",
     "text": [
      "Enter the value:5\n",
      " *  \n",
      " *   *  \n",
      " *   *   *  \n",
      " *   *   *   *  \n",
      " *   *   *   *   *  \n"
     ]
    }
   ],
   "source": [
    "#1\n",
    "#Generate the given pattern\n",
    "n=int(input(\"Enter the value:\"))\n",
    "for i in range(n):\n",
    "    for j in range(i+1):\n",
    "        print(\" * \",end=\" \")\n",
    "    print()       "
   ]
  },
  {
   "cell_type": "code",
   "execution_count": 9,
   "metadata": {},
   "outputs": [
    {
     "name": "stdout",
     "output_type": "stream",
     "text": [
      "enter :7\n",
      "7 * 1 = 7\n",
      "7 * 2 = 14\n",
      "7 * 3 = 21\n",
      "7 * 4 = 28\n",
      "7 * 5 = 35\n",
      "7 * 6 = 42\n",
      "7 * 7 = 49\n",
      "7 * 8 = 56\n",
      "7 * 9 = 63\n",
      "7 * 10 = 70\n"
     ]
    }
   ],
   "source": [
    "#2 Genrate Kth table\n",
    "n=int(input(\"enter :\"))\n",
    "for i in range(1,11):\n",
    "    print(n,\"*\",i,\"=\",n*i)\n",
    "\n",
    "    \n",
    "    "
   ]
  },
  {
   "cell_type": "code",
   "execution_count": 3,
   "metadata": {},
   "outputs": [
    {
     "name": "stdout",
     "output_type": "stream",
     "text": [
      "Enter the value of a: 3\n",
      "Enter the value of b: 5\n",
      "Enter the value of c: 2\n",
      "The roots are (-1+0j) and (-0.6666666666666666+0j) \n"
     ]
    }
   ],
   "source": [
    "#3 Roots of quadratic equation\n",
    "import cmath\n",
    "a=int(input(\"Enter the value of a: \"))\n",
    "b=int(input(\"Enter the value of b: \"))\n",
    "c=int(input(\"Enter the value of c: \"))\n",
    "d=(b**2)-(4*a*c)\n",
    "root1=(-b-cmath.sqrt(d))/(2*a)\n",
    "root2=(-b+cmath.sqrt(d))/(2*a)\n",
    "print(\"The roots are {0} and {1} \".format(root1,root2))\n"
   ]
  },
  {
   "cell_type": "code",
   "execution_count": 11,
   "metadata": {},
   "outputs": [
    {
     "name": "stdout",
     "output_type": "stream",
     "text": [
      "Enter a decimal number : 42\n",
      "101010"
     ]
    }
   ],
   "source": [
    "#4 Convert decimal to binary\n",
    "def DecimalToBinary(num) :\n",
    "        if num > 1:\n",
    "            DecimalToBinary(num // 2)\n",
    "        print (num % 2,end='')\n",
    "a=int(input(\"Enter a decimal number : \"))\n",
    "DecimalToBinary(a)"
   ]
  },
  {
   "cell_type": "code",
   "execution_count": 17,
   "metadata": {
    "scrolled": true
   },
   "outputs": [
    {
     "name": "stdout",
     "output_type": "stream",
     "text": [
      "Enter the value :5\n",
      "0 1 1 2 3 "
     ]
    }
   ],
   "source": [
    "#5 Generate first N number of Fibonacci numbers. Take N value from the user\n",
    "def fibonacci(n):\n",
    "    if (n==0):\n",
    "        return 0\n",
    "    elif (n==1):\n",
    "        return 1\n",
    "    else :\n",
    "        return fibonacci(n-1)+fibonacci(n-2)\n",
    "a=int(input(\"Enter the value :\" ))    \n",
    "for a in range(0,a):\n",
    "         print(fibonacci(a),end=' ')    \n",
    "    \n",
    "    "
   ]
  },
  {
   "cell_type": "code",
   "execution_count": null,
   "metadata": {
    "collapsed": true
   },
   "outputs": [],
   "source": []
  }
 ],
 "metadata": {
  "kernelspec": {
   "display_name": "Python 3",
   "language": "python",
   "name": "python3"
  },
  "language_info": {
   "codemirror_mode": {
    "name": "ipython",
    "version": 3
   },
   "file_extension": ".py",
   "mimetype": "text/x-python",
   "name": "python",
   "nbconvert_exporter": "python",
   "pygments_lexer": "ipython3",
   "version": "3.6.1"
  }
 },
 "nbformat": 4,
 "nbformat_minor": 2
}
