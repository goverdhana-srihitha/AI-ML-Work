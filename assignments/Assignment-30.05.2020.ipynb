{
 "cells": [
  {
   "cell_type": "markdown",
   "metadata": {},
   "source": [
    "### Name : G Sai Srihitha\n",
    "### Pin : 221710402014\n",
    "### Assignment 4 (30.05.2020)\n"
   ]
  },
  {
   "cell_type": "code",
   "execution_count": 4,
   "metadata": {
    "collapsed": true
   },
   "outputs": [],
   "source": [
    "f = open('intern.txt','w')\n",
    "f.write(\"Internship 2020 DsPs,Assignment Task\")\n",
    "f.close()\n",
    "\n",
    "f = open('name.txt','w')\n",
    "f.write(\"This is to remove\")\n",
    "f.close()"
   ]
  },
  {
   "cell_type": "code",
   "execution_count": 5,
   "metadata": {},
   "outputs": [
    {
     "name": "stdout",
     "output_type": "stream",
     "text": [
      "words :  4 \n",
      "Characters :  36 \n",
      "Line :  1\n"
     ]
    }
   ],
   "source": [
    "# 1.Count the no.of words,no.of letters,no.of lines available in your file\n",
    "f=open('intern.txt')\n",
    "data=f.read()\n",
    "words = data.split()\n",
    "l=data.split('\\n')\n",
    "print(\"words : \",len(words),\"\\nCharacters : \",len(data),\"\\nLine : \",len(l))"
   ]
  },
  {
   "cell_type": "markdown",
   "metadata": {
    "collapsed": true
   },
   "source": [
    "###  Question 2:\n",
    "####  Copy the content of one file to another\n"
   ]
  },
  {
   "cell_type": "code",
   "execution_count": 6,
   "metadata": {
    "collapsed": true
   },
   "outputs": [],
   "source": [
    "f=open('intern.txt') #mode arugument default leads to read operation in phython \n",
    "f1=open('output.txt','a') # for appending \n",
    "for line in f.readlines():\n",
    "    f1.write(line)\n",
    "f1.close()\n",
    "f.close()"
   ]
  },
  {
   "cell_type": "code",
   "execution_count": 7,
   "metadata": {},
   "outputs": [
    {
     "name": "stdout",
     "output_type": "stream",
     "text": [
      "Content in 1 file :\n",
      "Internship 2020 DsPs,Assignment Task\n",
      "content in another :  \n",
      "Internship 2020 DsPs,Assignment Task\n"
     ]
    }
   ],
   "source": [
    "f = open(\"intern.txt\",\"r\")\n",
    "print(\"Content in 1 file :\")\n",
    "data = f.read()\n",
    "print(data)\n",
    "f.close()\n",
    "f = open(\"output.txt\")\n",
    "print(\"content in another :  \")\n",
    "data = f.read()\n",
    "print(data)\n",
    "f.close()"
   ]
  },
  {
   "cell_type": "markdown",
   "metadata": {},
   "source": [
    "### Question 3:\n",
    "#### Display the words starting with letter 'p'\n"
   ]
  },
  {
   "cell_type": "code",
   "execution_count": 8,
   "metadata": {
    "collapsed": true
   },
   "outputs": [],
   "source": [
    "f = open(\"intern.txt\",\"w\")\n",
    "s='''line1\n",
    "python \n",
    "line4'''\n",
    "f.write(s)\n",
    "f.close()"
   ]
  },
  {
   "cell_type": "code",
   "execution_count": 9,
   "metadata": {},
   "outputs": [
    {
     "name": "stdout",
     "output_type": "stream",
     "text": [
      "p y t h o n "
     ]
    }
   ],
   "source": [
    "def counter(fname):\n",
    "    with open(fname, 'r') as f:\n",
    "        for line in f:\n",
    "            if(line[0]=='p'):\n",
    "                for letter in line:\n",
    "                    if(letter[0]!=' '):\n",
    "                        print(letter[0],end=\" \")\n",
    "                    else:\n",
    "                        break;\n",
    "counter(\"intern.txt\")                        "
   ]
  },
  {
   "cell_type": "markdown",
   "metadata": {},
   "source": [
    "### Question 4:\n",
    "#### Rename and remove files\n"
   ]
  },
  {
   "cell_type": "code",
   "execution_count": 10,
   "metadata": {},
   "outputs": [
    {
     "name": "stdout",
     "output_type": "stream",
     "text": [
      "File Renamed\n"
     ]
    }
   ],
   "source": [
    "import os\n",
    "os.rename('name.txt',\"py.txt\")\n",
    "print(\"File Renamed\")\n"
   ]
  },
  {
   "cell_type": "code",
   "execution_count": 12,
   "metadata": {},
   "outputs": [
    {
     "name": "stdout",
     "output_type": "stream",
     "text": [
      "file removed\n"
     ]
    }
   ],
   "source": [
    "import os \n",
    "os.remove(\"py.txt\")\n",
    "print(\"file removed\")"
   ]
  },
  {
   "cell_type": "code",
   "execution_count": null,
   "metadata": {
    "collapsed": true
   },
   "outputs": [],
   "source": []
  }
 ],
 "metadata": {
  "kernelspec": {
   "display_name": "Python 3",
   "language": "python",
   "name": "python3"
  },
  "language_info": {
   "codemirror_mode": {
    "name": "ipython",
    "version": 3
   },
   "file_extension": ".py",
   "mimetype": "text/x-python",
   "name": "python",
   "nbconvert_exporter": "python",
   "pygments_lexer": "ipython3",
   "version": "3.6.1"
  }
 },
 "nbformat": 4,
 "nbformat_minor": 2
}
