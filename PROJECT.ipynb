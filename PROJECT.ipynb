{
  "nbformat": 4,
  "nbformat_minor": 0,
  "metadata": {
    "colab": {
      "name": "PROJECT1.ipynb",
      "provenance": [],
      "collapsed_sections": []
    },
    "kernelspec": {
      "name": "python3",
      "display_name": "Python 3"
    }
  },
  "cells": [
    {
      "cell_type": "markdown",
      "metadata": {
        "id": "JsDKd4YqVdjw",
        "colab_type": "text"
      },
      "source": [
        "\n",
        "## Project Title :\n",
        "### Credit Card Fraud Detection \n",
        "###                     - By Goverdhana Sai Srihitha"
      ]
    },
    {
      "cell_type": "markdown",
      "metadata": {
        "id": "Dx-rvQcJ-slX",
        "colab_type": "text"
      },
      "source": [
        ""
      ]
    },
    {
      "cell_type": "markdown",
      "metadata": {
        "id": "dlSXbEVkWoXw",
        "colab_type": "text"
      },
      "source": [
        "#### Importing the required Python Packages "
      ]
    },
    {
      "cell_type": "code",
      "metadata": {
        "id": "WDzZSfonUGvF",
        "colab_type": "code",
        "colab": {}
      },
      "source": [
        "import pandas as pd \n",
        "from pandas.plotting import scatter_matrix\n",
        "import numpy as np\n",
        "import matplotlib.pyplot as plt\n",
        "import seaborn as sns \n",
        "import os\n",
        "from matplotlib import gridspec\n",
        "from imblearn.over_sampling import ADASYN \n",
        "from collections import Counter\n",
        "\n",
        "#scikit packages\n",
        "from sklearn.preprocessing import StandardScaler\n",
        "from sklearn.model_selection import train_test_split, cross_val_score\n",
        "from sklearn.linear_model import LogisticRegression\n",
        "from sklearn.ensemble import RandomForestClassifier\n",
        "from sklearn.naive_bayes import BernoulliNB \n",
        "from sklearn import metrics"
      ],
      "execution_count": null,
      "outputs": []
    },
    {
      "cell_type": "markdown",
      "metadata": {
        "id": "4aT0indfQeD8",
        "colab_type": "text"
      },
      "source": [
        "#### Checking the versions of above packages"
      ]
    },
    {
      "cell_type": "code",
      "metadata": {
        "id": "057OCdulKUoT",
        "colab_type": "code",
        "colab": {
          "base_uri": "https://localhost:8080/",
          "height": 70
        },
        "outputId": "679d8d86-4d95-4ed6-85c0-5f060052ab8d"
      },
      "source": [
        "print(np.__version__) #Numpy\n",
        "print(pd.__version__) #Pandas\n",
        "print(sns.__version__) #Seaborn"
      ],
      "execution_count": null,
      "outputs": [
        {
          "output_type": "stream",
          "text": [
            "1.18.5\n",
            "1.0.5\n",
            "0.10.1\n"
          ],
          "name": "stdout"
        }
      ]
    },
    {
      "cell_type": "code",
      "metadata": {
        "id": "SJjfbw2m5eju",
        "colab_type": "code",
        "colab": {
          "base_uri": "https://localhost:8080/",
          "height": 431
        },
        "outputId": "d9a3fb68-cc01-4aad-ac44-63b8fb0ddf3e"
      },
      "source": [
        "## Load the dataset from the csv file using pandas \n",
        "# copy the path for the csv file \n",
        "df = pd.read_csv(\"/content/creditcardproject.csv\")\n",
        "df"
      ],
      "execution_count": null,
      "outputs": [
        {
          "output_type": "execute_result",
          "data": {
            "text/html": [
              "<div>\n",
              "<style scoped>\n",
              "    .dataframe tbody tr th:only-of-type {\n",
              "        vertical-align: middle;\n",
              "    }\n",
              "\n",
              "    .dataframe tbody tr th {\n",
              "        vertical-align: top;\n",
              "    }\n",
              "\n",
              "    .dataframe thead th {\n",
              "        text-align: right;\n",
              "    }\n",
              "</style>\n",
              "<table border=\"1\" class=\"dataframe\">\n",
              "  <thead>\n",
              "    <tr style=\"text-align: right;\">\n",
              "      <th></th>\n",
              "      <th>Time</th>\n",
              "      <th>V1</th>\n",
              "      <th>V2</th>\n",
              "      <th>V3</th>\n",
              "      <th>V4</th>\n",
              "      <th>V5</th>\n",
              "      <th>V6</th>\n",
              "      <th>V7</th>\n",
              "      <th>V8</th>\n",
              "      <th>V9</th>\n",
              "      <th>V10</th>\n",
              "      <th>V11</th>\n",
              "      <th>V12</th>\n",
              "      <th>V13</th>\n",
              "      <th>V14</th>\n",
              "      <th>V15</th>\n",
              "      <th>V16</th>\n",
              "      <th>V17</th>\n",
              "      <th>V18</th>\n",
              "      <th>V19</th>\n",
              "      <th>V20</th>\n",
              "      <th>V21</th>\n",
              "      <th>V22</th>\n",
              "      <th>V23</th>\n",
              "      <th>V24</th>\n",
              "      <th>V25</th>\n",
              "      <th>V26</th>\n",
              "      <th>V27</th>\n",
              "      <th>V28</th>\n",
              "      <th>Amount</th>\n",
              "      <th>Class</th>\n",
              "    </tr>\n",
              "  </thead>\n",
              "  <tbody>\n",
              "    <tr>\n",
              "      <th>0</th>\n",
              "      <td>0.0</td>\n",
              "      <td>-1.360</td>\n",
              "      <td>-0.073</td>\n",
              "      <td>2.536</td>\n",
              "      <td>1.378</td>\n",
              "      <td>-0.338</td>\n",
              "      <td>0.462</td>\n",
              "      <td>0.240</td>\n",
              "      <td>0.099</td>\n",
              "      <td>0.364</td>\n",
              "      <td>0.091</td>\n",
              "      <td>-0.552</td>\n",
              "      <td>-0.618</td>\n",
              "      <td>-0.991</td>\n",
              "      <td>-0.311</td>\n",
              "      <td>1.468</td>\n",
              "      <td>-0.470</td>\n",
              "      <td>0.208</td>\n",
              "      <td>0.026</td>\n",
              "      <td>0.404</td>\n",
              "      <td>0.251</td>\n",
              "      <td>-0.018</td>\n",
              "      <td>0.278</td>\n",
              "      <td>-0.110</td>\n",
              "      <td>0.067</td>\n",
              "      <td>0.129</td>\n",
              "      <td>-0.189</td>\n",
              "      <td>0.134</td>\n",
              "      <td>-0.021</td>\n",
              "      <td>149.62</td>\n",
              "      <td>0</td>\n",
              "    </tr>\n",
              "    <tr>\n",
              "      <th>1</th>\n",
              "      <td>0.0</td>\n",
              "      <td>1.192</td>\n",
              "      <td>0.266</td>\n",
              "      <td>0.166</td>\n",
              "      <td>0.448</td>\n",
              "      <td>0.060</td>\n",
              "      <td>-0.082</td>\n",
              "      <td>-0.079</td>\n",
              "      <td>0.085</td>\n",
              "      <td>-0.255</td>\n",
              "      <td>-0.167</td>\n",
              "      <td>1.613</td>\n",
              "      <td>1.065</td>\n",
              "      <td>0.489</td>\n",
              "      <td>-0.144</td>\n",
              "      <td>0.636</td>\n",
              "      <td>0.464</td>\n",
              "      <td>-0.115</td>\n",
              "      <td>-0.183</td>\n",
              "      <td>-0.146</td>\n",
              "      <td>-0.069</td>\n",
              "      <td>-0.226</td>\n",
              "      <td>-0.639</td>\n",
              "      <td>0.101</td>\n",
              "      <td>-0.340</td>\n",
              "      <td>0.167</td>\n",
              "      <td>0.126</td>\n",
              "      <td>-0.009</td>\n",
              "      <td>0.015</td>\n",
              "      <td>2.69</td>\n",
              "      <td>0</td>\n",
              "    </tr>\n",
              "    <tr>\n",
              "      <th>2</th>\n",
              "      <td>1.0</td>\n",
              "      <td>-1.358</td>\n",
              "      <td>-1.340</td>\n",
              "      <td>1.773</td>\n",
              "      <td>0.380</td>\n",
              "      <td>-0.503</td>\n",
              "      <td>1.800</td>\n",
              "      <td>0.791</td>\n",
              "      <td>0.248</td>\n",
              "      <td>-1.515</td>\n",
              "      <td>0.208</td>\n",
              "      <td>0.625</td>\n",
              "      <td>0.066</td>\n",
              "      <td>0.717</td>\n",
              "      <td>-0.166</td>\n",
              "      <td>2.346</td>\n",
              "      <td>-2.890</td>\n",
              "      <td>1.110</td>\n",
              "      <td>-0.121</td>\n",
              "      <td>-2.262</td>\n",
              "      <td>0.525</td>\n",
              "      <td>0.248</td>\n",
              "      <td>0.772</td>\n",
              "      <td>0.909</td>\n",
              "      <td>-0.689</td>\n",
              "      <td>-0.328</td>\n",
              "      <td>-0.139</td>\n",
              "      <td>-0.055</td>\n",
              "      <td>-0.060</td>\n",
              "      <td>378.66</td>\n",
              "      <td>0</td>\n",
              "    </tr>\n",
              "    <tr>\n",
              "      <th>3</th>\n",
              "      <td>1.0</td>\n",
              "      <td>-0.966</td>\n",
              "      <td>-0.185</td>\n",
              "      <td>1.793</td>\n",
              "      <td>-0.863</td>\n",
              "      <td>-0.010</td>\n",
              "      <td>1.247</td>\n",
              "      <td>0.238</td>\n",
              "      <td>0.377</td>\n",
              "      <td>-1.387</td>\n",
              "      <td>-0.055</td>\n",
              "      <td>-0.226</td>\n",
              "      <td>0.178</td>\n",
              "      <td>0.508</td>\n",
              "      <td>-0.288</td>\n",
              "      <td>-0.631</td>\n",
              "      <td>-1.060</td>\n",
              "      <td>-0.684</td>\n",
              "      <td>1.966</td>\n",
              "      <td>-1.233</td>\n",
              "      <td>-0.208</td>\n",
              "      <td>-0.108</td>\n",
              "      <td>0.005</td>\n",
              "      <td>-0.190</td>\n",
              "      <td>-1.176</td>\n",
              "      <td>0.647</td>\n",
              "      <td>-0.222</td>\n",
              "      <td>0.063</td>\n",
              "      <td>0.061</td>\n",
              "      <td>123.50</td>\n",
              "      <td>0</td>\n",
              "    </tr>\n",
              "    <tr>\n",
              "      <th>4</th>\n",
              "      <td>2.0</td>\n",
              "      <td>-1.158</td>\n",
              "      <td>0.878</td>\n",
              "      <td>1.549</td>\n",
              "      <td>0.403</td>\n",
              "      <td>-0.407</td>\n",
              "      <td>0.096</td>\n",
              "      <td>0.593</td>\n",
              "      <td>-0.271</td>\n",
              "      <td>0.818</td>\n",
              "      <td>0.753</td>\n",
              "      <td>-0.823</td>\n",
              "      <td>0.538</td>\n",
              "      <td>1.346</td>\n",
              "      <td>-1.120</td>\n",
              "      <td>0.175</td>\n",
              "      <td>-0.451</td>\n",
              "      <td>-0.237</td>\n",
              "      <td>-0.038</td>\n",
              "      <td>0.803</td>\n",
              "      <td>0.409</td>\n",
              "      <td>-0.009</td>\n",
              "      <td>0.798</td>\n",
              "      <td>-0.137</td>\n",
              "      <td>0.141</td>\n",
              "      <td>-0.206</td>\n",
              "      <td>0.502</td>\n",
              "      <td>0.219</td>\n",
              "      <td>0.215</td>\n",
              "      <td>69.99</td>\n",
              "      <td>0</td>\n",
              "    </tr>\n",
              "    <tr>\n",
              "      <th>...</th>\n",
              "      <td>...</td>\n",
              "      <td>...</td>\n",
              "      <td>...</td>\n",
              "      <td>...</td>\n",
              "      <td>...</td>\n",
              "      <td>...</td>\n",
              "      <td>...</td>\n",
              "      <td>...</td>\n",
              "      <td>...</td>\n",
              "      <td>...</td>\n",
              "      <td>...</td>\n",
              "      <td>...</td>\n",
              "      <td>...</td>\n",
              "      <td>...</td>\n",
              "      <td>...</td>\n",
              "      <td>...</td>\n",
              "      <td>...</td>\n",
              "      <td>...</td>\n",
              "      <td>...</td>\n",
              "      <td>...</td>\n",
              "      <td>...</td>\n",
              "      <td>...</td>\n",
              "      <td>...</td>\n",
              "      <td>...</td>\n",
              "      <td>...</td>\n",
              "      <td>...</td>\n",
              "      <td>...</td>\n",
              "      <td>...</td>\n",
              "      <td>...</td>\n",
              "      <td>...</td>\n",
              "      <td>...</td>\n",
              "    </tr>\n",
              "    <tr>\n",
              "      <th>284802</th>\n",
              "      <td>172786.0</td>\n",
              "      <td>-11.881</td>\n",
              "      <td>10.072</td>\n",
              "      <td>-9.835</td>\n",
              "      <td>-2.067</td>\n",
              "      <td>-5.364</td>\n",
              "      <td>-2.607</td>\n",
              "      <td>-4.918</td>\n",
              "      <td>7.305</td>\n",
              "      <td>1.914</td>\n",
              "      <td>4.356</td>\n",
              "      <td>-1.593</td>\n",
              "      <td>2.712</td>\n",
              "      <td>-0.689</td>\n",
              "      <td>4.627</td>\n",
              "      <td>-0.924</td>\n",
              "      <td>1.108</td>\n",
              "      <td>1.992</td>\n",
              "      <td>0.511</td>\n",
              "      <td>-0.683</td>\n",
              "      <td>1.476</td>\n",
              "      <td>0.213</td>\n",
              "      <td>0.112</td>\n",
              "      <td>1.014</td>\n",
              "      <td>-0.509</td>\n",
              "      <td>1.437</td>\n",
              "      <td>0.250</td>\n",
              "      <td>0.944</td>\n",
              "      <td>0.824</td>\n",
              "      <td>0.77</td>\n",
              "      <td>0</td>\n",
              "    </tr>\n",
              "    <tr>\n",
              "      <th>284803</th>\n",
              "      <td>172787.0</td>\n",
              "      <td>-0.733</td>\n",
              "      <td>-0.055</td>\n",
              "      <td>2.035</td>\n",
              "      <td>-0.739</td>\n",
              "      <td>0.868</td>\n",
              "      <td>1.058</td>\n",
              "      <td>0.024</td>\n",
              "      <td>0.295</td>\n",
              "      <td>0.585</td>\n",
              "      <td>-0.976</td>\n",
              "      <td>-0.150</td>\n",
              "      <td>0.916</td>\n",
              "      <td>1.215</td>\n",
              "      <td>-0.675</td>\n",
              "      <td>1.165</td>\n",
              "      <td>-0.712</td>\n",
              "      <td>-0.026</td>\n",
              "      <td>-1.221</td>\n",
              "      <td>-1.546</td>\n",
              "      <td>0.060</td>\n",
              "      <td>0.214</td>\n",
              "      <td>0.924</td>\n",
              "      <td>0.012</td>\n",
              "      <td>-1.016</td>\n",
              "      <td>-0.607</td>\n",
              "      <td>-0.395</td>\n",
              "      <td>0.068</td>\n",
              "      <td>-0.054</td>\n",
              "      <td>24.79</td>\n",
              "      <td>0</td>\n",
              "    </tr>\n",
              "    <tr>\n",
              "      <th>284804</th>\n",
              "      <td>172788.0</td>\n",
              "      <td>1.920</td>\n",
              "      <td>-0.301</td>\n",
              "      <td>-3.250</td>\n",
              "      <td>-0.558</td>\n",
              "      <td>2.631</td>\n",
              "      <td>3.031</td>\n",
              "      <td>-0.297</td>\n",
              "      <td>0.708</td>\n",
              "      <td>0.432</td>\n",
              "      <td>-0.485</td>\n",
              "      <td>0.412</td>\n",
              "      <td>0.063</td>\n",
              "      <td>-0.184</td>\n",
              "      <td>-0.511</td>\n",
              "      <td>1.329</td>\n",
              "      <td>0.141</td>\n",
              "      <td>0.314</td>\n",
              "      <td>0.396</td>\n",
              "      <td>-0.577</td>\n",
              "      <td>0.001</td>\n",
              "      <td>0.232</td>\n",
              "      <td>0.578</td>\n",
              "      <td>-0.038</td>\n",
              "      <td>0.640</td>\n",
              "      <td>0.266</td>\n",
              "      <td>-0.087</td>\n",
              "      <td>0.004</td>\n",
              "      <td>-0.027</td>\n",
              "      <td>67.88</td>\n",
              "      <td>0</td>\n",
              "    </tr>\n",
              "    <tr>\n",
              "      <th>284805</th>\n",
              "      <td>172788.0</td>\n",
              "      <td>-0.240</td>\n",
              "      <td>0.530</td>\n",
              "      <td>0.703</td>\n",
              "      <td>0.690</td>\n",
              "      <td>-0.378</td>\n",
              "      <td>0.624</td>\n",
              "      <td>-0.686</td>\n",
              "      <td>0.679</td>\n",
              "      <td>0.392</td>\n",
              "      <td>-0.399</td>\n",
              "      <td>-1.934</td>\n",
              "      <td>-0.963</td>\n",
              "      <td>-1.042</td>\n",
              "      <td>0.450</td>\n",
              "      <td>1.963</td>\n",
              "      <td>-0.609</td>\n",
              "      <td>0.510</td>\n",
              "      <td>1.114</td>\n",
              "      <td>2.898</td>\n",
              "      <td>0.127</td>\n",
              "      <td>0.265</td>\n",
              "      <td>0.800</td>\n",
              "      <td>-0.163</td>\n",
              "      <td>0.123</td>\n",
              "      <td>-0.569</td>\n",
              "      <td>0.547</td>\n",
              "      <td>0.109</td>\n",
              "      <td>0.105</td>\n",
              "      <td>10.00</td>\n",
              "      <td>0</td>\n",
              "    </tr>\n",
              "    <tr>\n",
              "      <th>284806</th>\n",
              "      <td>172792.0</td>\n",
              "      <td>-0.533</td>\n",
              "      <td>-0.190</td>\n",
              "      <td>0.703</td>\n",
              "      <td>-0.506</td>\n",
              "      <td>-0.013</td>\n",
              "      <td>-0.650</td>\n",
              "      <td>1.577</td>\n",
              "      <td>-0.415</td>\n",
              "      <td>0.486</td>\n",
              "      <td>-0.915</td>\n",
              "      <td>-1.040</td>\n",
              "      <td>-0.032</td>\n",
              "      <td>-0.188</td>\n",
              "      <td>-0.084</td>\n",
              "      <td>0.041</td>\n",
              "      <td>-0.303</td>\n",
              "      <td>-0.660</td>\n",
              "      <td>0.167</td>\n",
              "      <td>-0.256</td>\n",
              "      <td>0.383</td>\n",
              "      <td>0.261</td>\n",
              "      <td>0.643</td>\n",
              "      <td>0.377</td>\n",
              "      <td>0.009</td>\n",
              "      <td>-0.474</td>\n",
              "      <td>-0.818</td>\n",
              "      <td>-0.002</td>\n",
              "      <td>0.014</td>\n",
              "      <td>217.00</td>\n",
              "      <td>0</td>\n",
              "    </tr>\n",
              "  </tbody>\n",
              "</table>\n",
              "<p>284807 rows × 31 columns</p>\n",
              "</div>"
            ],
            "text/plain": [
              "            Time      V1      V2     V3  ...    V27    V28  Amount  Class\n",
              "0            0.0  -1.360  -0.073  2.536  ...  0.134 -0.021  149.62      0\n",
              "1            0.0   1.192   0.266  0.166  ... -0.009  0.015    2.69      0\n",
              "2            1.0  -1.358  -1.340  1.773  ... -0.055 -0.060  378.66      0\n",
              "3            1.0  -0.966  -0.185  1.793  ...  0.063  0.061  123.50      0\n",
              "4            2.0  -1.158   0.878  1.549  ...  0.219  0.215   69.99      0\n",
              "...          ...     ...     ...    ...  ...    ...    ...     ...    ...\n",
              "284802  172786.0 -11.881  10.072 -9.835  ...  0.944  0.824    0.77      0\n",
              "284803  172787.0  -0.733  -0.055  2.035  ...  0.068 -0.054   24.79      0\n",
              "284804  172788.0   1.920  -0.301 -3.250  ...  0.004 -0.027   67.88      0\n",
              "284805  172788.0  -0.240   0.530  0.703  ...  0.109  0.105   10.00      0\n",
              "284806  172792.0  -0.533  -0.190  0.703  ... -0.002  0.014  217.00      0\n",
              "\n",
              "[284807 rows x 31 columns]"
            ]
          },
          "metadata": {
            "tags": []
          },
          "execution_count": 35
        }
      ]
    },
    {
      "cell_type": "markdown",
      "metadata": {
        "id": "afqaUITCnX3o",
        "colab_type": "text"
      },
      "source": [
        "**Info about data:** it is a CSV file, contains 31 features, the last feature is used to classify the transaction whether it is a fraud or not\n",
        "\n",
        "**Information about data set**\n",
        "\n",
        "The datasets contains transactions made by credit cards in September 2013 by european cardholders. This dataset presents transactions that occurred in two days, where we have 492 frauds out of 284,807 transactions. The dataset is highly unbalanced, the positive class (frauds) account for 0.172% of all transactions.\n",
        "\n",
        "It contains only numerical input variables which are the result of a PCA transformation. Unfortunately, due to confidentiality issues, we cannot provide the original features and more background information about the data. Features V1, V2, ... V28 are the principal components obtained with PCA, the only features which have not been transformed with PCA are 'Time' and 'Amount'. Feature 'Time' contains the seconds elapsed between each transaction and the first transaction in the dataset. The feature 'Amount' is the transaction Amount, this feature can be used for example-dependant cost-senstive learning. **Feature** **'Class'** is the response variable and it takes **value 1 in case of fraud and 0 otherwise.**"
      ]
    },
    {
      "cell_type": "code",
      "metadata": {
        "id": "zu2e0X6kgcnq",
        "colab_type": "code",
        "colab": {
          "base_uri": "https://localhost:8080/",
          "height": 35
        },
        "outputId": "72412179-558d-4016-d6fb-2830b8d0b533"
      },
      "source": [
        "# Describing the data \n",
        "# df.shape\n",
        "print('This Dataset has {} rows and {} columns.'.format(df.shape[0], df.shape[1]))"
      ],
      "execution_count": null,
      "outputs": [
        {
          "output_type": "stream",
          "text": [
            "This Dataset has 284807 rows and 31 columns.\n"
          ],
          "name": "stdout"
        }
      ]
    },
    {
      "cell_type": "code",
      "metadata": {
        "id": "x3MTTeAg7wxU",
        "colab_type": "code",
        "colab": {
          "base_uri": "https://localhost:8080/",
          "height": 220
        },
        "outputId": "9102ab3d-6cc7-45a8-a873-c5378bd92cfb"
      },
      "source": [
        "# Peek at data \n",
        "df.sample(5)"
      ],
      "execution_count": null,
      "outputs": [
        {
          "output_type": "execute_result",
          "data": {
            "text/html": [
              "<div>\n",
              "<style scoped>\n",
              "    .dataframe tbody tr th:only-of-type {\n",
              "        vertical-align: middle;\n",
              "    }\n",
              "\n",
              "    .dataframe tbody tr th {\n",
              "        vertical-align: top;\n",
              "    }\n",
              "\n",
              "    .dataframe thead th {\n",
              "        text-align: right;\n",
              "    }\n",
              "</style>\n",
              "<table border=\"1\" class=\"dataframe\">\n",
              "  <thead>\n",
              "    <tr style=\"text-align: right;\">\n",
              "      <th></th>\n",
              "      <th>Time</th>\n",
              "      <th>V1</th>\n",
              "      <th>V2</th>\n",
              "      <th>V3</th>\n",
              "      <th>V4</th>\n",
              "      <th>V5</th>\n",
              "      <th>V6</th>\n",
              "      <th>V7</th>\n",
              "      <th>V8</th>\n",
              "      <th>V9</th>\n",
              "      <th>V10</th>\n",
              "      <th>V11</th>\n",
              "      <th>V12</th>\n",
              "      <th>V13</th>\n",
              "      <th>V14</th>\n",
              "      <th>V15</th>\n",
              "      <th>V16</th>\n",
              "      <th>V17</th>\n",
              "      <th>V18</th>\n",
              "      <th>V19</th>\n",
              "      <th>V20</th>\n",
              "      <th>V21</th>\n",
              "      <th>V22</th>\n",
              "      <th>V23</th>\n",
              "      <th>V24</th>\n",
              "      <th>V25</th>\n",
              "      <th>V26</th>\n",
              "      <th>V27</th>\n",
              "      <th>V28</th>\n",
              "      <th>Amount</th>\n",
              "      <th>Class</th>\n",
              "    </tr>\n",
              "  </thead>\n",
              "  <tbody>\n",
              "    <tr>\n",
              "      <th>133192</th>\n",
              "      <td>80284.0</td>\n",
              "      <td>1.257</td>\n",
              "      <td>0.251</td>\n",
              "      <td>0.277</td>\n",
              "      <td>0.707</td>\n",
              "      <td>-0.502</td>\n",
              "      <td>-1.108</td>\n",
              "      <td>-0.014</td>\n",
              "      <td>-0.121</td>\n",
              "      <td>0.254</td>\n",
              "      <td>-0.239</td>\n",
              "      <td>-0.316</td>\n",
              "      <td>-0.543</td>\n",
              "      <td>-1.238</td>\n",
              "      <td>0.004</td>\n",
              "      <td>1.254</td>\n",
              "      <td>0.547</td>\n",
              "      <td>0.078</td>\n",
              "      <td>-0.120</td>\n",
              "      <td>-0.188</td>\n",
              "      <td>-0.176</td>\n",
              "      <td>-0.305</td>\n",
              "      <td>-0.949</td>\n",
              "      <td>0.148</td>\n",
              "      <td>0.305</td>\n",
              "      <td>0.167</td>\n",
              "      <td>0.099</td>\n",
              "      <td>-0.032</td>\n",
              "      <td>0.028</td>\n",
              "      <td>0.99</td>\n",
              "      <td>0</td>\n",
              "    </tr>\n",
              "    <tr>\n",
              "      <th>41301</th>\n",
              "      <td>40628.0</td>\n",
              "      <td>-0.900</td>\n",
              "      <td>0.971</td>\n",
              "      <td>-0.451</td>\n",
              "      <td>-1.402</td>\n",
              "      <td>-0.794</td>\n",
              "      <td>-0.569</td>\n",
              "      <td>0.560</td>\n",
              "      <td>0.358</td>\n",
              "      <td>-2.177</td>\n",
              "      <td>-0.204</td>\n",
              "      <td>-1.227</td>\n",
              "      <td>-0.209</td>\n",
              "      <td>1.689</td>\n",
              "      <td>0.301</td>\n",
              "      <td>0.002</td>\n",
              "      <td>1.062</td>\n",
              "      <td>0.336</td>\n",
              "      <td>-1.221</td>\n",
              "      <td>1.086</td>\n",
              "      <td>-0.005</td>\n",
              "      <td>0.363</td>\n",
              "      <td>0.764</td>\n",
              "      <td>-0.158</td>\n",
              "      <td>-0.379</td>\n",
              "      <td>0.147</td>\n",
              "      <td>-0.149</td>\n",
              "      <td>-0.211</td>\n",
              "      <td>-0.027</td>\n",
              "      <td>137.66</td>\n",
              "      <td>0</td>\n",
              "    </tr>\n",
              "    <tr>\n",
              "      <th>160239</th>\n",
              "      <td>113178.0</td>\n",
              "      <td>2.025</td>\n",
              "      <td>-0.196</td>\n",
              "      <td>-1.440</td>\n",
              "      <td>0.088</td>\n",
              "      <td>0.124</td>\n",
              "      <td>-0.582</td>\n",
              "      <td>-0.055</td>\n",
              "      <td>-0.038</td>\n",
              "      <td>0.720</td>\n",
              "      <td>0.106</td>\n",
              "      <td>0.793</td>\n",
              "      <td>0.202</td>\n",
              "      <td>-1.577</td>\n",
              "      <td>0.986</td>\n",
              "      <td>0.412</td>\n",
              "      <td>-0.071</td>\n",
              "      <td>-0.637</td>\n",
              "      <td>0.690</td>\n",
              "      <td>0.024</td>\n",
              "      <td>-0.322</td>\n",
              "      <td>0.308</td>\n",
              "      <td>0.930</td>\n",
              "      <td>0.033</td>\n",
              "      <td>0.686</td>\n",
              "      <td>0.248</td>\n",
              "      <td>-0.465</td>\n",
              "      <td>-0.007</td>\n",
              "      <td>-0.060</td>\n",
              "      <td>1.00</td>\n",
              "      <td>0</td>\n",
              "    </tr>\n",
              "    <tr>\n",
              "      <th>137042</th>\n",
              "      <td>81991.0</td>\n",
              "      <td>0.893</td>\n",
              "      <td>0.489</td>\n",
              "      <td>0.628</td>\n",
              "      <td>1.076</td>\n",
              "      <td>-0.302</td>\n",
              "      <td>-0.349</td>\n",
              "      <td>-0.047</td>\n",
              "      <td>0.007</td>\n",
              "      <td>0.269</td>\n",
              "      <td>0.098</td>\n",
              "      <td>-0.846</td>\n",
              "      <td>0.204</td>\n",
              "      <td>0.734</td>\n",
              "      <td>-0.145</td>\n",
              "      <td>1.272</td>\n",
              "      <td>0.421</td>\n",
              "      <td>-0.708</td>\n",
              "      <td>0.331</td>\n",
              "      <td>0.147</td>\n",
              "      <td>-0.072</td>\n",
              "      <td>0.030</td>\n",
              "      <td>0.166</td>\n",
              "      <td>0.295</td>\n",
              "      <td>-0.151</td>\n",
              "      <td>-0.972</td>\n",
              "      <td>-0.607</td>\n",
              "      <td>0.024</td>\n",
              "      <td>-0.111</td>\n",
              "      <td>8.99</td>\n",
              "      <td>0</td>\n",
              "    </tr>\n",
              "    <tr>\n",
              "      <th>187106</th>\n",
              "      <td>127388.0</td>\n",
              "      <td>-0.934</td>\n",
              "      <td>-0.107</td>\n",
              "      <td>1.706</td>\n",
              "      <td>-2.425</td>\n",
              "      <td>-0.290</td>\n",
              "      <td>-0.056</td>\n",
              "      <td>0.200</td>\n",
              "      <td>0.043</td>\n",
              "      <td>-1.177</td>\n",
              "      <td>-0.188</td>\n",
              "      <td>0.401</td>\n",
              "      <td>-0.173</td>\n",
              "      <td>0.441</td>\n",
              "      <td>-0.577</td>\n",
              "      <td>-1.114</td>\n",
              "      <td>1.617</td>\n",
              "      <td>-0.507</td>\n",
              "      <td>-0.486</td>\n",
              "      <td>0.339</td>\n",
              "      <td>0.093</td>\n",
              "      <td>0.363</td>\n",
              "      <td>0.929</td>\n",
              "      <td>-0.474</td>\n",
              "      <td>-0.360</td>\n",
              "      <td>0.774</td>\n",
              "      <td>-0.055</td>\n",
              "      <td>-0.101</td>\n",
              "      <td>0.045</td>\n",
              "      <td>64.99</td>\n",
              "      <td>0</td>\n",
              "    </tr>\n",
              "  </tbody>\n",
              "</table>\n",
              "</div>"
            ],
            "text/plain": [
              "            Time     V1     V2     V3  ...    V27    V28  Amount  Class\n",
              "133192   80284.0  1.257  0.251  0.277  ... -0.032  0.028    0.99      0\n",
              "41301    40628.0 -0.900  0.971 -0.451  ... -0.211 -0.027  137.66      0\n",
              "160239  113178.0  2.025 -0.196 -1.440  ... -0.007 -0.060    1.00      0\n",
              "137042   81991.0  0.893  0.489  0.628  ...  0.024 -0.111    8.99      0\n",
              "187106  127388.0 -0.934 -0.107  1.706  ... -0.101  0.045   64.99      0\n",
              "\n",
              "[5 rows x 31 columns]"
            ]
          },
          "metadata": {
            "tags": []
          },
          "execution_count": 28
        }
      ]
    },
    {
      "cell_type": "code",
      "metadata": {
        "id": "znH1-RkFTwVm",
        "colab_type": "code",
        "colab": {
          "base_uri": "https://localhost:8080/",
          "height": 692
        },
        "outputId": "a93f3496-1754-4a1c-ee71-dced8f445f43"
      },
      "source": [
        "# Information \n",
        "df.info()"
      ],
      "execution_count": null,
      "outputs": [
        {
          "output_type": "stream",
          "text": [
            "<class 'pandas.core.frame.DataFrame'>\n",
            "RangeIndex: 284807 entries, 0 to 284806\n",
            "Data columns (total 31 columns):\n",
            " #   Column  Non-Null Count   Dtype  \n",
            "---  ------  --------------   -----  \n",
            " 0   Time    284807 non-null  float64\n",
            " 1   V1      284807 non-null  float64\n",
            " 2   V2      284807 non-null  float64\n",
            " 3   V3      284807 non-null  float64\n",
            " 4   V4      284807 non-null  float64\n",
            " 5   V5      284807 non-null  float64\n",
            " 6   V6      284807 non-null  float64\n",
            " 7   V7      284807 non-null  float64\n",
            " 8   V8      284807 non-null  float64\n",
            " 9   V9      284807 non-null  float64\n",
            " 10  V10     284807 non-null  float64\n",
            " 11  V11     284807 non-null  float64\n",
            " 12  V12     284807 non-null  float64\n",
            " 13  V13     284807 non-null  float64\n",
            " 14  V14     284807 non-null  float64\n",
            " 15  V15     284807 non-null  float64\n",
            " 16  V16     284807 non-null  float64\n",
            " 17  V17     284807 non-null  float64\n",
            " 18  V18     284807 non-null  float64\n",
            " 19  V19     284807 non-null  float64\n",
            " 20  V20     284807 non-null  float64\n",
            " 21  V21     284807 non-null  float64\n",
            " 22  V22     284807 non-null  float64\n",
            " 23  V23     284807 non-null  float64\n",
            " 24  V24     284807 non-null  float64\n",
            " 25  V25     284807 non-null  float64\n",
            " 26  V26     284807 non-null  float64\n",
            " 27  V27     284807 non-null  float64\n",
            " 28  V28     284807 non-null  float64\n",
            " 29  Amount  284807 non-null  float64\n",
            " 30  Class   284807 non-null  int64  \n",
            "dtypes: float64(30), int64(1)\n",
            "memory usage: 67.4 MB\n"
          ],
          "name": "stdout"
        }
      ]
    },
    {
      "cell_type": "code",
      "metadata": {
        "id": "KmLisdnBcWmE",
        "colab_type": "code",
        "colab": {
          "base_uri": "https://localhost:8080/",
          "height": 586
        },
        "outputId": "73ab2311-60aa-4776-8344-8baecbcb13b7"
      },
      "source": [
        "# Data types \n",
        "df.dtypes"
      ],
      "execution_count": null,
      "outputs": [
        {
          "output_type": "execute_result",
          "data": {
            "text/plain": [
              "Time      float64\n",
              "V1        float64\n",
              "V2        float64\n",
              "V3        float64\n",
              "V4        float64\n",
              "V5        float64\n",
              "V6        float64\n",
              "V7        float64\n",
              "V8        float64\n",
              "V9        float64\n",
              "V10       float64\n",
              "V11       float64\n",
              "V12       float64\n",
              "V13       float64\n",
              "V14       float64\n",
              "V15       float64\n",
              "V16       float64\n",
              "V17       float64\n",
              "V18       float64\n",
              "V19       float64\n",
              "V20       float64\n",
              "V21       float64\n",
              "V22       float64\n",
              "V23       float64\n",
              "V24       float64\n",
              "V25       float64\n",
              "V26       float64\n",
              "V27       float64\n",
              "V28       float64\n",
              "Amount    float64\n",
              "Class       int64\n",
              "dtype: object"
            ]
          },
          "metadata": {
            "tags": []
          },
          "execution_count": 84
        }
      ]
    },
    {
      "cell_type": "code",
      "metadata": {
        "id": "q9n6thJyT5B0",
        "colab_type": "code",
        "colab": {
          "base_uri": "https://localhost:8080/",
          "height": 990
        },
        "outputId": "2faf1578-8bf7-433b-f896-a94894ff43de"
      },
      "source": [
        "# Statistical data Description of the data\n",
        "df.describe().T"
      ],
      "execution_count": null,
      "outputs": [
        {
          "output_type": "execute_result",
          "data": {
            "text/html": [
              "<div>\n",
              "<style scoped>\n",
              "    .dataframe tbody tr th:only-of-type {\n",
              "        vertical-align: middle;\n",
              "    }\n",
              "\n",
              "    .dataframe tbody tr th {\n",
              "        vertical-align: top;\n",
              "    }\n",
              "\n",
              "    .dataframe thead th {\n",
              "        text-align: right;\n",
              "    }\n",
              "</style>\n",
              "<table border=\"1\" class=\"dataframe\">\n",
              "  <thead>\n",
              "    <tr style=\"text-align: right;\">\n",
              "      <th></th>\n",
              "      <th>count</th>\n",
              "      <th>mean</th>\n",
              "      <th>std</th>\n",
              "      <th>min</th>\n",
              "      <th>25%</th>\n",
              "      <th>50%</th>\n",
              "      <th>75%</th>\n",
              "      <th>max</th>\n",
              "    </tr>\n",
              "  </thead>\n",
              "  <tbody>\n",
              "    <tr>\n",
              "      <th>Time</th>\n",
              "      <td>284807.0</td>\n",
              "      <td>9.481e+04</td>\n",
              "      <td>47488.146</td>\n",
              "      <td>0.000</td>\n",
              "      <td>54201.500</td>\n",
              "      <td>84692.000</td>\n",
              "      <td>139320.500</td>\n",
              "      <td>172792.000</td>\n",
              "    </tr>\n",
              "    <tr>\n",
              "      <th>V1</th>\n",
              "      <td>284807.0</td>\n",
              "      <td>1.759e-12</td>\n",
              "      <td>1.959</td>\n",
              "      <td>-56.408</td>\n",
              "      <td>-0.920</td>\n",
              "      <td>0.018</td>\n",
              "      <td>1.316</td>\n",
              "      <td>2.455</td>\n",
              "    </tr>\n",
              "    <tr>\n",
              "      <th>V2</th>\n",
              "      <td>284807.0</td>\n",
              "      <td>-8.252e-13</td>\n",
              "      <td>1.651</td>\n",
              "      <td>-72.716</td>\n",
              "      <td>-0.599</td>\n",
              "      <td>0.065</td>\n",
              "      <td>0.804</td>\n",
              "      <td>22.058</td>\n",
              "    </tr>\n",
              "    <tr>\n",
              "      <th>V3</th>\n",
              "      <td>284807.0</td>\n",
              "      <td>-9.637e-13</td>\n",
              "      <td>1.516</td>\n",
              "      <td>-48.326</td>\n",
              "      <td>-0.890</td>\n",
              "      <td>0.180</td>\n",
              "      <td>1.027</td>\n",
              "      <td>9.383</td>\n",
              "    </tr>\n",
              "    <tr>\n",
              "      <th>V4</th>\n",
              "      <td>284807.0</td>\n",
              "      <td>8.316e-13</td>\n",
              "      <td>1.416</td>\n",
              "      <td>-5.683</td>\n",
              "      <td>-0.849</td>\n",
              "      <td>-0.020</td>\n",
              "      <td>0.743</td>\n",
              "      <td>16.875</td>\n",
              "    </tr>\n",
              "    <tr>\n",
              "      <th>V5</th>\n",
              "      <td>284807.0</td>\n",
              "      <td>1.592e-13</td>\n",
              "      <td>1.380</td>\n",
              "      <td>-113.743</td>\n",
              "      <td>-0.692</td>\n",
              "      <td>-0.054</td>\n",
              "      <td>0.612</td>\n",
              "      <td>34.802</td>\n",
              "    </tr>\n",
              "    <tr>\n",
              "      <th>V6</th>\n",
              "      <td>284807.0</td>\n",
              "      <td>4.247e-13</td>\n",
              "      <td>1.332</td>\n",
              "      <td>-26.161</td>\n",
              "      <td>-0.768</td>\n",
              "      <td>-0.274</td>\n",
              "      <td>0.399</td>\n",
              "      <td>73.302</td>\n",
              "    </tr>\n",
              "    <tr>\n",
              "      <th>V7</th>\n",
              "      <td>284807.0</td>\n",
              "      <td>-3.050e-13</td>\n",
              "      <td>1.237</td>\n",
              "      <td>-43.557</td>\n",
              "      <td>-0.554</td>\n",
              "      <td>0.040</td>\n",
              "      <td>0.570</td>\n",
              "      <td>120.589</td>\n",
              "    </tr>\n",
              "    <tr>\n",
              "      <th>V8</th>\n",
              "      <td>284807.0</td>\n",
              "      <td>8.693e-14</td>\n",
              "      <td>1.194</td>\n",
              "      <td>-73.217</td>\n",
              "      <td>-0.209</td>\n",
              "      <td>0.022</td>\n",
              "      <td>0.327</td>\n",
              "      <td>20.007</td>\n",
              "    </tr>\n",
              "    <tr>\n",
              "      <th>V9</th>\n",
              "      <td>284807.0</td>\n",
              "      <td>-1.180e-12</td>\n",
              "      <td>1.099</td>\n",
              "      <td>-13.434</td>\n",
              "      <td>-0.643</td>\n",
              "      <td>-0.051</td>\n",
              "      <td>0.597</td>\n",
              "      <td>15.595</td>\n",
              "    </tr>\n",
              "    <tr>\n",
              "      <th>V10</th>\n",
              "      <td>284807.0</td>\n",
              "      <td>7.095e-13</td>\n",
              "      <td>1.089</td>\n",
              "      <td>-24.588</td>\n",
              "      <td>-0.535</td>\n",
              "      <td>-0.093</td>\n",
              "      <td>0.454</td>\n",
              "      <td>23.745</td>\n",
              "    </tr>\n",
              "    <tr>\n",
              "      <th>V11</th>\n",
              "      <td>284807.0</td>\n",
              "      <td>1.875e-12</td>\n",
              "      <td>1.021</td>\n",
              "      <td>-4.797</td>\n",
              "      <td>-0.762</td>\n",
              "      <td>-0.033</td>\n",
              "      <td>0.740</td>\n",
              "      <td>12.019</td>\n",
              "    </tr>\n",
              "    <tr>\n",
              "      <th>V12</th>\n",
              "      <td>284807.0</td>\n",
              "      <td>1.053e-12</td>\n",
              "      <td>0.999</td>\n",
              "      <td>-18.684</td>\n",
              "      <td>-0.406</td>\n",
              "      <td>0.140</td>\n",
              "      <td>0.618</td>\n",
              "      <td>7.848</td>\n",
              "    </tr>\n",
              "    <tr>\n",
              "      <th>V13</th>\n",
              "      <td>284807.0</td>\n",
              "      <td>7.138e-13</td>\n",
              "      <td>0.995</td>\n",
              "      <td>-5.792</td>\n",
              "      <td>-0.649</td>\n",
              "      <td>-0.014</td>\n",
              "      <td>0.663</td>\n",
              "      <td>7.127</td>\n",
              "    </tr>\n",
              "    <tr>\n",
              "      <th>V14</th>\n",
              "      <td>284807.0</td>\n",
              "      <td>-1.491e-13</td>\n",
              "      <td>0.959</td>\n",
              "      <td>-19.214</td>\n",
              "      <td>-0.426</td>\n",
              "      <td>0.051</td>\n",
              "      <td>0.493</td>\n",
              "      <td>10.527</td>\n",
              "    </tr>\n",
              "    <tr>\n",
              "      <th>V15</th>\n",
              "      <td>284807.0</td>\n",
              "      <td>-5.226e-13</td>\n",
              "      <td>0.915</td>\n",
              "      <td>-4.499</td>\n",
              "      <td>-0.583</td>\n",
              "      <td>0.048</td>\n",
              "      <td>0.649</td>\n",
              "      <td>8.878</td>\n",
              "    </tr>\n",
              "    <tr>\n",
              "      <th>V16</th>\n",
              "      <td>284807.0</td>\n",
              "      <td>-2.281e-13</td>\n",
              "      <td>0.876</td>\n",
              "      <td>-14.130</td>\n",
              "      <td>-0.468</td>\n",
              "      <td>0.066</td>\n",
              "      <td>0.523</td>\n",
              "      <td>17.315</td>\n",
              "    </tr>\n",
              "    <tr>\n",
              "      <th>V17</th>\n",
              "      <td>284807.0</td>\n",
              "      <td>-6.429e-13</td>\n",
              "      <td>0.849</td>\n",
              "      <td>-25.163</td>\n",
              "      <td>-0.484</td>\n",
              "      <td>-0.066</td>\n",
              "      <td>0.400</td>\n",
              "      <td>9.254</td>\n",
              "    </tr>\n",
              "    <tr>\n",
              "      <th>V18</th>\n",
              "      <td>284807.0</td>\n",
              "      <td>4.959e-13</td>\n",
              "      <td>0.838</td>\n",
              "      <td>-9.499</td>\n",
              "      <td>-0.499</td>\n",
              "      <td>-0.004</td>\n",
              "      <td>0.501</td>\n",
              "      <td>5.041</td>\n",
              "    </tr>\n",
              "    <tr>\n",
              "      <th>V19</th>\n",
              "      <td>284807.0</td>\n",
              "      <td>7.061e-13</td>\n",
              "      <td>0.814</td>\n",
              "      <td>-7.214</td>\n",
              "      <td>-0.456</td>\n",
              "      <td>0.004</td>\n",
              "      <td>0.459</td>\n",
              "      <td>5.592</td>\n",
              "    </tr>\n",
              "    <tr>\n",
              "      <th>V20</th>\n",
              "      <td>284807.0</td>\n",
              "      <td>1.766e-12</td>\n",
              "      <td>0.771</td>\n",
              "      <td>-54.498</td>\n",
              "      <td>-0.212</td>\n",
              "      <td>-0.062</td>\n",
              "      <td>0.133</td>\n",
              "      <td>39.421</td>\n",
              "    </tr>\n",
              "    <tr>\n",
              "      <th>V21</th>\n",
              "      <td>284807.0</td>\n",
              "      <td>-3.407e-13</td>\n",
              "      <td>0.735</td>\n",
              "      <td>-34.830</td>\n",
              "      <td>-0.228</td>\n",
              "      <td>-0.029</td>\n",
              "      <td>0.186</td>\n",
              "      <td>27.203</td>\n",
              "    </tr>\n",
              "    <tr>\n",
              "      <th>V22</th>\n",
              "      <td>284807.0</td>\n",
              "      <td>-5.713e-13</td>\n",
              "      <td>0.726</td>\n",
              "      <td>-10.933</td>\n",
              "      <td>-0.542</td>\n",
              "      <td>0.007</td>\n",
              "      <td>0.529</td>\n",
              "      <td>10.503</td>\n",
              "    </tr>\n",
              "    <tr>\n",
              "      <th>V23</th>\n",
              "      <td>284807.0</td>\n",
              "      <td>-9.725e-13</td>\n",
              "      <td>0.624</td>\n",
              "      <td>-44.808</td>\n",
              "      <td>-0.162</td>\n",
              "      <td>-0.011</td>\n",
              "      <td>0.148</td>\n",
              "      <td>22.528</td>\n",
              "    </tr>\n",
              "    <tr>\n",
              "      <th>V24</th>\n",
              "      <td>284807.0</td>\n",
              "      <td>1.464e-12</td>\n",
              "      <td>0.606</td>\n",
              "      <td>-2.837</td>\n",
              "      <td>-0.355</td>\n",
              "      <td>0.041</td>\n",
              "      <td>0.440</td>\n",
              "      <td>4.585</td>\n",
              "    </tr>\n",
              "    <tr>\n",
              "      <th>V25</th>\n",
              "      <td>284807.0</td>\n",
              "      <td>-6.989e-13</td>\n",
              "      <td>0.521</td>\n",
              "      <td>-10.295</td>\n",
              "      <td>-0.317</td>\n",
              "      <td>0.017</td>\n",
              "      <td>0.351</td>\n",
              "      <td>7.520</td>\n",
              "    </tr>\n",
              "    <tr>\n",
              "      <th>V26</th>\n",
              "      <td>284807.0</td>\n",
              "      <td>-5.615e-13</td>\n",
              "      <td>0.482</td>\n",
              "      <td>-2.605</td>\n",
              "      <td>-0.327</td>\n",
              "      <td>-0.052</td>\n",
              "      <td>0.241</td>\n",
              "      <td>3.517</td>\n",
              "    </tr>\n",
              "    <tr>\n",
              "      <th>V27</th>\n",
              "      <td>284807.0</td>\n",
              "      <td>3.332e-12</td>\n",
              "      <td>0.404</td>\n",
              "      <td>-22.566</td>\n",
              "      <td>-0.071</td>\n",
              "      <td>0.001</td>\n",
              "      <td>0.091</td>\n",
              "      <td>31.612</td>\n",
              "    </tr>\n",
              "    <tr>\n",
              "      <th>V28</th>\n",
              "      <td>284807.0</td>\n",
              "      <td>-3.519e-12</td>\n",
              "      <td>0.330</td>\n",
              "      <td>-15.430</td>\n",
              "      <td>-0.053</td>\n",
              "      <td>0.011</td>\n",
              "      <td>0.078</td>\n",
              "      <td>33.848</td>\n",
              "    </tr>\n",
              "    <tr>\n",
              "      <th>Amount</th>\n",
              "      <td>284807.0</td>\n",
              "      <td>8.835e+01</td>\n",
              "      <td>250.120</td>\n",
              "      <td>0.000</td>\n",
              "      <td>5.600</td>\n",
              "      <td>22.000</td>\n",
              "      <td>77.165</td>\n",
              "      <td>25691.160</td>\n",
              "    </tr>\n",
              "    <tr>\n",
              "      <th>Class</th>\n",
              "      <td>284807.0</td>\n",
              "      <td>1.727e-03</td>\n",
              "      <td>0.042</td>\n",
              "      <td>0.000</td>\n",
              "      <td>0.000</td>\n",
              "      <td>0.000</td>\n",
              "      <td>0.000</td>\n",
              "      <td>1.000</td>\n",
              "    </tr>\n",
              "  </tbody>\n",
              "</table>\n",
              "</div>"
            ],
            "text/plain": [
              "           count       mean        std  ...        50%         75%         max\n",
              "Time    284807.0  9.481e+04  47488.146  ...  84692.000  139320.500  172792.000\n",
              "V1      284807.0  1.759e-12      1.959  ...      0.018       1.316       2.455\n",
              "V2      284807.0 -8.252e-13      1.651  ...      0.065       0.804      22.058\n",
              "V3      284807.0 -9.637e-13      1.516  ...      0.180       1.027       9.383\n",
              "V4      284807.0  8.316e-13      1.416  ...     -0.020       0.743      16.875\n",
              "V5      284807.0  1.592e-13      1.380  ...     -0.054       0.612      34.802\n",
              "V6      284807.0  4.247e-13      1.332  ...     -0.274       0.399      73.302\n",
              "V7      284807.0 -3.050e-13      1.237  ...      0.040       0.570     120.589\n",
              "V8      284807.0  8.693e-14      1.194  ...      0.022       0.327      20.007\n",
              "V9      284807.0 -1.180e-12      1.099  ...     -0.051       0.597      15.595\n",
              "V10     284807.0  7.095e-13      1.089  ...     -0.093       0.454      23.745\n",
              "V11     284807.0  1.875e-12      1.021  ...     -0.033       0.740      12.019\n",
              "V12     284807.0  1.053e-12      0.999  ...      0.140       0.618       7.848\n",
              "V13     284807.0  7.138e-13      0.995  ...     -0.014       0.663       7.127\n",
              "V14     284807.0 -1.491e-13      0.959  ...      0.051       0.493      10.527\n",
              "V15     284807.0 -5.226e-13      0.915  ...      0.048       0.649       8.878\n",
              "V16     284807.0 -2.281e-13      0.876  ...      0.066       0.523      17.315\n",
              "V17     284807.0 -6.429e-13      0.849  ...     -0.066       0.400       9.254\n",
              "V18     284807.0  4.959e-13      0.838  ...     -0.004       0.501       5.041\n",
              "V19     284807.0  7.061e-13      0.814  ...      0.004       0.459       5.592\n",
              "V20     284807.0  1.766e-12      0.771  ...     -0.062       0.133      39.421\n",
              "V21     284807.0 -3.407e-13      0.735  ...     -0.029       0.186      27.203\n",
              "V22     284807.0 -5.713e-13      0.726  ...      0.007       0.529      10.503\n",
              "V23     284807.0 -9.725e-13      0.624  ...     -0.011       0.148      22.528\n",
              "V24     284807.0  1.464e-12      0.606  ...      0.041       0.440       4.585\n",
              "V25     284807.0 -6.989e-13      0.521  ...      0.017       0.351       7.520\n",
              "V26     284807.0 -5.615e-13      0.482  ...     -0.052       0.241       3.517\n",
              "V27     284807.0  3.332e-12      0.404  ...      0.001       0.091      31.612\n",
              "V28     284807.0 -3.519e-12      0.330  ...      0.011       0.078      33.848\n",
              "Amount  284807.0  8.835e+01    250.120  ...     22.000      77.165   25691.160\n",
              "Class   284807.0  1.727e-03      0.042  ...      0.000       0.000       1.000\n",
              "\n",
              "[31 rows x 8 columns]"
            ]
          },
          "metadata": {
            "tags": []
          },
          "execution_count": 37
        }
      ]
    },
    {
      "cell_type": "code",
      "metadata": {
        "id": "55aOPSzmUD4h",
        "colab_type": "code",
        "colab": {
          "base_uri": "https://localhost:8080/",
          "height": 291
        },
        "outputId": "26cbb60d-2309-4670-fd5a-dbb0964aff07"
      },
      "source": [
        "# From the above data -->printing only non-anonymized columns of interest \n",
        "pd.set_option('precision',3)\n",
        "df.loc[:,['Time',\"Amount\"]].describe()"
      ],
      "execution_count": null,
      "outputs": [
        {
          "output_type": "execute_result",
          "data": {
            "text/html": [
              "<div>\n",
              "<style scoped>\n",
              "    .dataframe tbody tr th:only-of-type {\n",
              "        vertical-align: middle;\n",
              "    }\n",
              "\n",
              "    .dataframe tbody tr th {\n",
              "        vertical-align: top;\n",
              "    }\n",
              "\n",
              "    .dataframe thead th {\n",
              "        text-align: right;\n",
              "    }\n",
              "</style>\n",
              "<table border=\"1\" class=\"dataframe\">\n",
              "  <thead>\n",
              "    <tr style=\"text-align: right;\">\n",
              "      <th></th>\n",
              "      <th>Time</th>\n",
              "      <th>Amount</th>\n",
              "    </tr>\n",
              "  </thead>\n",
              "  <tbody>\n",
              "    <tr>\n",
              "      <th>count</th>\n",
              "      <td>284807.000</td>\n",
              "      <td>284807.000</td>\n",
              "    </tr>\n",
              "    <tr>\n",
              "      <th>mean</th>\n",
              "      <td>94813.860</td>\n",
              "      <td>88.350</td>\n",
              "    </tr>\n",
              "    <tr>\n",
              "      <th>std</th>\n",
              "      <td>47488.146</td>\n",
              "      <td>250.120</td>\n",
              "    </tr>\n",
              "    <tr>\n",
              "      <th>min</th>\n",
              "      <td>0.000</td>\n",
              "      <td>0.000</td>\n",
              "    </tr>\n",
              "    <tr>\n",
              "      <th>25%</th>\n",
              "      <td>54201.500</td>\n",
              "      <td>5.600</td>\n",
              "    </tr>\n",
              "    <tr>\n",
              "      <th>50%</th>\n",
              "      <td>84692.000</td>\n",
              "      <td>22.000</td>\n",
              "    </tr>\n",
              "    <tr>\n",
              "      <th>75%</th>\n",
              "      <td>139320.500</td>\n",
              "      <td>77.165</td>\n",
              "    </tr>\n",
              "    <tr>\n",
              "      <th>max</th>\n",
              "      <td>172792.000</td>\n",
              "      <td>25691.160</td>\n",
              "    </tr>\n",
              "  </tbody>\n",
              "</table>\n",
              "</div>"
            ],
            "text/plain": [
              "             Time      Amount\n",
              "count  284807.000  284807.000\n",
              "mean    94813.860      88.350\n",
              "std     47488.146     250.120\n",
              "min         0.000       0.000\n",
              "25%     54201.500       5.600\n",
              "50%     84692.000      22.000\n",
              "75%    139320.500      77.165\n",
              "max    172792.000   25691.160"
            ]
          },
          "metadata": {
            "tags": []
          },
          "execution_count": 8
        }
      ]
    },
    {
      "cell_type": "code",
      "metadata": {
        "id": "yCYjTaGCS8af",
        "colab_type": "code",
        "colab": {
          "base_uri": "https://localhost:8080/",
          "height": 586
        },
        "outputId": "0529166e-bf0e-49ae-c0d4-1476eee037c4"
      },
      "source": [
        "df.isnull().sum()"
      ],
      "execution_count": null,
      "outputs": [
        {
          "output_type": "execute_result",
          "data": {
            "text/plain": [
              "Time      0\n",
              "V1        0\n",
              "V2        0\n",
              "V3        0\n",
              "V4        0\n",
              "V5        0\n",
              "V6        0\n",
              "V7        0\n",
              "V8        0\n",
              "V9        0\n",
              "V10       0\n",
              "V11       0\n",
              "V12       0\n",
              "V13       0\n",
              "V14       0\n",
              "V15       0\n",
              "V16       0\n",
              "V17       0\n",
              "V18       0\n",
              "V19       0\n",
              "V20       0\n",
              "V21       0\n",
              "V22       0\n",
              "V23       0\n",
              "V24       0\n",
              "V25       0\n",
              "V26       0\n",
              "V27       0\n",
              "V28       0\n",
              "Amount    0\n",
              "Class     0\n",
              "dtype: int64"
            ]
          },
          "metadata": {
            "tags": []
          },
          "execution_count": 82
        }
      ]
    },
    {
      "cell_type": "code",
      "metadata": {
        "id": "Nb5N4vY1UqsP",
        "colab_type": "code",
        "colab": {
          "base_uri": "https://localhost:8080/",
          "height": 70
        },
        "outputId": "3077d633-758f-4dd8-c05c-646e2d60cdd0"
      },
      "source": [
        "# Imbalance in data \n",
        "fraud = df[df['Class'] == 1]\n",
        "valid = df[df['Class'] == 0]\n",
        "outlierFraction = len(fraud)/float(len(valid))\n",
        "print(outlierFraction)\n",
        "print('Fraud Transaction Cases: {}'.format(len(df[df['Class'] == 1])))\n",
        "print('Legal Transactions : {}'.format(len(df[df['Class'] == 0])))"
      ],
      "execution_count": null,
      "outputs": [
        {
          "output_type": "stream",
          "text": [
            "0.0017304750013189597\n",
            "Fraud Transaction Cases: 492\n",
            "Legal Transactions : 284315\n"
          ],
          "name": "stdout"
        }
      ]
    },
    {
      "cell_type": "markdown",
      "metadata": {
        "id": "qzQL0y85WVbH",
        "colab_type": "text"
      },
      "source": [
        "Observation : \n",
        "\n",
        "Only 0.17% fraudelent transaction out of all the transactions. The data is highly unbalanced.  "
      ]
    },
    {
      "cell_type": "code",
      "metadata": {
        "id": "XImdbCKuWOkb",
        "colab_type": "code",
        "colab": {
          "base_uri": "https://localhost:8080/",
          "height": 195
        },
        "outputId": "9217b469-663c-4d8d-de99-74e9241eee35"
      },
      "source": [
        "# Print the amount details for Fraudulent Transaction\n",
        "print('Amount details of the fraudulent transaction')\n",
        "fraud.Amount.describe()"
      ],
      "execution_count": null,
      "outputs": [
        {
          "output_type": "stream",
          "text": [
            "Amount details of the fraudulent transaction\n"
          ],
          "name": "stdout"
        },
        {
          "output_type": "execute_result",
          "data": {
            "text/plain": [
              "count     492.000\n",
              "mean      122.211\n",
              "std       256.683\n",
              "min         0.000\n",
              "25%         1.000\n",
              "50%         9.250\n",
              "75%       105.890\n",
              "max      2125.870\n",
              "Name: Amount, dtype: float64"
            ]
          },
          "metadata": {
            "tags": []
          },
          "execution_count": 39
        }
      ]
    },
    {
      "cell_type": "code",
      "metadata": {
        "id": "E89WlSDRW8JQ",
        "colab_type": "code",
        "colab": {
          "base_uri": "https://localhost:8080/",
          "height": 195
        },
        "outputId": "981c4288-ccbf-402b-9a4e-bb07719fc7c0"
      },
      "source": [
        "# Print the amount details for Normal(valid) Transaction\n",
        "print('The amount details of valid transaction ')\n",
        "valid.Amount.describe() "
      ],
      "execution_count": null,
      "outputs": [
        {
          "output_type": "stream",
          "text": [
            "The amount details of valid transaction \n"
          ],
          "name": "stdout"
        },
        {
          "output_type": "execute_result",
          "data": {
            "text/plain": [
              "count    284315.000\n",
              "mean         88.291\n",
              "std         250.105\n",
              "min           0.000\n",
              "25%           5.650\n",
              "50%          22.000\n",
              "75%          77.050\n",
              "max       25691.160\n",
              "Name: Amount, dtype: float64"
            ]
          },
          "metadata": {
            "tags": []
          },
          "execution_count": 25
        }
      ]
    },
    {
      "cell_type": "markdown",
      "metadata": {
        "id": "wY0nrGqXXZ-b",
        "colab_type": "text"
      },
      "source": [
        "From above two codes we can clearly notice that , the **Average money** transaction for **fraudlent** ones is more . This makes this problem cruical to deal with"
      ]
    },
    {
      "cell_type": "markdown",
      "metadata": {
        "id": "oFaVnQSZY3q6",
        "colab_type": "text"
      },
      "source": [
        "#### Visualizations "
      ]
    },
    {
      "cell_type": "code",
      "metadata": {
        "id": "gP_DZESBXV2W",
        "colab_type": "code",
        "colab": {
          "base_uri": "https://localhost:8080/",
          "height": 476
        },
        "outputId": "fe885a2f-11db-48e5-c214-135148058fbb"
      },
      "source": [
        "sns.set_style(\"whitegrid\")\n",
        "sns.FacetGrid(df, hue=\"Class\", size = 6).map(plt.scatter, \"Time\", \"Amount\").add_legend()\n",
        "plt.show()"
      ],
      "execution_count": null,
      "outputs": [
        {
          "output_type": "stream",
          "text": [
            "/usr/local/lib/python3.6/dist-packages/seaborn/axisgrid.py:243: UserWarning: The `size` parameter has been renamed to `height`; please update your code.\n",
            "  warnings.warn(msg, UserWarning)\n"
          ],
          "name": "stderr"
        },
        {
          "output_type": "display_data",
          "data": {
            "image/png": "[encoded data removed]",
            "text/plain": [
              "<Figure size 474.375x432 with 1 Axes>"
            ]
          },
          "metadata": {
            "tags": []
          }
        }
      ]
    },
    {
      "cell_type": "code",
      "metadata": {
        "id": "YIzTvgoBXrnZ",
        "colab_type": "code",
        "colab": {
          "base_uri": "https://localhost:8080/",
          "height": 476
        },
        "outputId": "ec56d807-aeba-47f9-8504-168fd03554de"
      },
      "source": [
        "sns.set_style(\"whitegrid\")\n",
        "sns.FacetGrid(df, hue=\"Class\", size = 6).map(plt.scatter, \"Amount\", \"Time\").add_legend()\n",
        "plt.show()"
      ],
      "execution_count": null,
      "outputs": [
        {
          "output_type": "stream",
          "text": [
            "/usr/local/lib/python3.6/dist-packages/seaborn/axisgrid.py:243: UserWarning: The `size` parameter has been renamed to `height`; please update your code.\n",
            "  warnings.warn(msg, UserWarning)\n"
          ],
          "name": "stderr"
        },
        {
          "output_type": "display_data",
          "data": {
            "image/png": "[encoded data removed]",
            "text/plain": [
              "<Figure size 474.375x432 with 1 Axes>"
            ]
          },
          "metadata": {
            "tags": []
          }
        }
      ]
    },
    {
      "cell_type": "markdown",
      "metadata": {
        "id": "puMLxYW6Y9nl",
        "colab_type": "text"
      },
      "source": [
        "#### Plotting the correlation Matrix \n",
        "\n",
        "The correlation matrix graphically gives us an idea of how features correlate with each other and can help us tp predict what are the features that are most relevant for the prediction"
      ]
    },
    {
      "cell_type": "code",
      "metadata": {
        "id": "_sslo3MFXX_k",
        "colab_type": "code",
        "colab": {
          "base_uri": "https://localhost:8080/",
          "height": 407
        },
        "outputId": "d7aad42d-a4fa-42a6-8fe1-4d641bae6085"
      },
      "source": [
        "# Correlation Matrix \n",
        "cor_matrix = df.corr()\n",
        "fig = plt.figure(figsize = (9,6))\n",
        "sns.heatmap(cor_matrix, vmax= .8 )\n",
        "plt.show()"
      ],
      "execution_count": null,
      "outputs": [
        {
          "output_type": "display_data",
          "data": {
            "image/png": "[encoded data removed]",
            "text/plain": [
              "<Figure size 648x432 with 2 Axes>"
            ]
          },
          "metadata": {
            "tags": []
          }
        }
      ]
    },
    {
      "cell_type": "markdown",
      "metadata": {
        "id": "NUKgR4rEaQLH",
        "colab_type": "text"
      },
      "source": [
        "In the HeatMap we can clearly see that most of the features do not correlate to other features but there are some features that either has a positive or a negative correlation with each other. For example, V2 and V5 are highly negatively correlated with the feature called Amount. We also see some correlation with V20 and Amount. This gives us a deeper understanding of the Data available to us."
      ]
    },
    {
      "cell_type": "markdown",
      "metadata": {
        "id": "ihz3e0PMX8tb",
        "colab_type": "text"
      },
      "source": [
        "### 3-D Scatter Plot"
      ]
    },
    {
      "cell_type": "code",
      "metadata": {
        "id": "M3DE0uIEbKg8",
        "colab_type": "code",
        "colab": {}
      },
      "source": [
        "FiltredData =df[['Time','Amount','Class']]"
      ],
      "execution_count": null,
      "outputs": []
    },
    {
      "cell_type": "code",
      "metadata": {
        "id": "lTyrWG9SbPcP",
        "colab_type": "code",
        "colab": {
          "base_uri": "https://localhost:8080/",
          "height": 411
        },
        "outputId": "1e1953d9-739e-4571-9781-3d62952474e4"
      },
      "source": [
        "FiltredData"
      ],
      "execution_count": null,
      "outputs": [
        {
          "output_type": "execute_result",
          "data": {
            "text/html": [
              "<div>\n",
              "<style scoped>\n",
              "    .dataframe tbody tr th:only-of-type {\n",
              "        vertical-align: middle;\n",
              "    }\n",
              "\n",
              "    .dataframe tbody tr th {\n",
              "        vertical-align: top;\n",
              "    }\n",
              "\n",
              "    .dataframe thead th {\n",
              "        text-align: right;\n",
              "    }\n",
              "</style>\n",
              "<table border=\"1\" class=\"dataframe\">\n",
              "  <thead>\n",
              "    <tr style=\"text-align: right;\">\n",
              "      <th></th>\n",
              "      <th>Time</th>\n",
              "      <th>Amount</th>\n",
              "      <th>Class</th>\n",
              "    </tr>\n",
              "  </thead>\n",
              "  <tbody>\n",
              "    <tr>\n",
              "      <th>0</th>\n",
              "      <td>0.0</td>\n",
              "      <td>149.62</td>\n",
              "      <td>0</td>\n",
              "    </tr>\n",
              "    <tr>\n",
              "      <th>1</th>\n",
              "      <td>0.0</td>\n",
              "      <td>2.69</td>\n",
              "      <td>0</td>\n",
              "    </tr>\n",
              "    <tr>\n",
              "      <th>2</th>\n",
              "      <td>1.0</td>\n",
              "      <td>378.66</td>\n",
              "      <td>0</td>\n",
              "    </tr>\n",
              "    <tr>\n",
              "      <th>3</th>\n",
              "      <td>1.0</td>\n",
              "      <td>123.50</td>\n",
              "      <td>0</td>\n",
              "    </tr>\n",
              "    <tr>\n",
              "      <th>4</th>\n",
              "      <td>2.0</td>\n",
              "      <td>69.99</td>\n",
              "      <td>0</td>\n",
              "    </tr>\n",
              "    <tr>\n",
              "      <th>...</th>\n",
              "      <td>...</td>\n",
              "      <td>...</td>\n",
              "      <td>...</td>\n",
              "    </tr>\n",
              "    <tr>\n",
              "      <th>284802</th>\n",
              "      <td>172786.0</td>\n",
              "      <td>0.77</td>\n",
              "      <td>0</td>\n",
              "    </tr>\n",
              "    <tr>\n",
              "      <th>284803</th>\n",
              "      <td>172787.0</td>\n",
              "      <td>24.79</td>\n",
              "      <td>0</td>\n",
              "    </tr>\n",
              "    <tr>\n",
              "      <th>284804</th>\n",
              "      <td>172788.0</td>\n",
              "      <td>67.88</td>\n",
              "      <td>0</td>\n",
              "    </tr>\n",
              "    <tr>\n",
              "      <th>284805</th>\n",
              "      <td>172788.0</td>\n",
              "      <td>10.00</td>\n",
              "      <td>0</td>\n",
              "    </tr>\n",
              "    <tr>\n",
              "      <th>284806</th>\n",
              "      <td>172792.0</td>\n",
              "      <td>217.00</td>\n",
              "      <td>0</td>\n",
              "    </tr>\n",
              "  </tbody>\n",
              "</table>\n",
              "<p>284807 rows × 3 columns</p>\n",
              "</div>"
            ],
            "text/plain": [
              "            Time  Amount  Class\n",
              "0            0.0  149.62      0\n",
              "1            0.0    2.69      0\n",
              "2            1.0  378.66      0\n",
              "3            1.0  123.50      0\n",
              "4            2.0   69.99      0\n",
              "...          ...     ...    ...\n",
              "284802  172786.0    0.77      0\n",
              "284803  172787.0   24.79      0\n",
              "284804  172788.0   67.88      0\n",
              "284805  172788.0   10.00      0\n",
              "284806  172792.0  217.00      0\n",
              "\n",
              "[284807 rows x 3 columns]"
            ]
          },
          "metadata": {
            "tags": []
          },
          "execution_count": 153
        }
      ]
    },
    {
      "cell_type": "code",
      "metadata": {
        "id": "0ezdSWZob0RO",
        "colab_type": "code",
        "colab": {
          "base_uri": "https://localhost:8080/",
          "height": 35
        },
        "outputId": "6558ab71-b3e2-4b2a-a637-c9ec471034d1"
      },
      "source": [
        "print(FiltredData.shape)"
      ],
      "execution_count": null,
      "outputs": [
        {
          "output_type": "stream",
          "text": [
            "(284807, 3)\n"
          ],
          "name": "stdout"
        }
      ]
    },
    {
      "cell_type": "code",
      "metadata": {
        "id": "WKM-5w5AbV5c",
        "colab_type": "code",
        "colab": {
          "base_uri": "https://localhost:8080/",
          "height": 70
        },
        "outputId": "5e10363a-d675-4df4-93e1-b606bb61b30d"
      },
      "source": [
        "FiltredData[\"Class\"].value_counts()"
      ],
      "execution_count": null,
      "outputs": [
        {
          "output_type": "execute_result",
          "data": {
            "text/plain": [
              "0    284315\n",
              "1       492\n",
              "Name: Class, dtype: int64"
            ]
          },
          "metadata": {
            "tags": []
          },
          "execution_count": 156
        }
      ]
    },
    {
      "cell_type": "code",
      "metadata": {
        "id": "KK9S9MSwX2LE",
        "colab_type": "code",
        "colab": {
          "base_uri": "https://localhost:8080/",
          "height": 764
        },
        "outputId": "a257d888-d855-4ea8-ef28-3ee1ddba1539"
      },
      "source": [
        "plt.close();\n",
        "sns.set_style(\"whitegrid\");\n",
        "sns.pairplot(FiltredData, hue=\"Class\", size=5);\n",
        "plt.show()\n"
      ],
      "execution_count": null,
      "outputs": [
        {
          "output_type": "stream",
          "text": [
            "/usr/local/lib/python3.6/dist-packages/seaborn/axisgrid.py:2071: UserWarning: The `size` parameter has been renamed to `height`; please update your code.\n",
            "  warnings.warn(msg, UserWarning)\n"
          ],
          "name": "stderr"
        },
        {
          "output_type": "display_data",
          "data": {
            "image/png": "[encoded data removed]",
            "text/plain": [
              "<Figure size 762.375x720 with 6 Axes>"
            ]
          },
          "metadata": {
            "tags": []
          }
        }
      ]
    },
    {
      "cell_type": "code",
      "metadata": {
        "id": "ud-R_FvuZutF",
        "colab_type": "code",
        "colab": {
          "base_uri": "https://localhost:8080/",
          "height": 513
        },
        "outputId": "e285fc3a-d191-4625-ff74-c0e740c86700"
      },
      "source": [
        "# visualizations of time and amount\n",
        "plt.figure(figsize=(10,8))\n",
        "plt.title(\"Distribution of Time feature\")\n",
        "sns.distplot(df.Time)\n",
        "plt.show()"
      ],
      "execution_count": null,
      "outputs": [
        {
          "output_type": "display_data",
          "data": {
            "image/png": "[encoded data removed]",
            "text/plain": [
              "<Figure size 720x576 with 1 Axes>"
            ]
          },
          "metadata": {
            "tags": [],
            "needs_background": "light"
          }
        }
      ]
    },
    {
      "cell_type": "code",
      "metadata": {
        "id": "lQlL563mareF",
        "colab_type": "code",
        "colab": {
          "base_uri": "https://localhost:8080/",
          "height": 513
        },
        "outputId": "d1b90184-ac2e-4f69-fa2b-de61f5a11ed9"
      },
      "source": [
        "plt.figure(figsize=(10,8))\n",
        "plt.title(\"Distribution of Monetary Value feature\")\n",
        "sns.distplot(df.Amount)\n",
        "plt.show()"
      ],
      "execution_count": null,
      "outputs": [
        {
          "output_type": "display_data",
          "data": {
            "image/png": "[encoded data removed]",
            "text/plain": [
              "<Figure size 720x576 with 1 Axes>"
            ]
          },
          "metadata": {
            "tags": [],
            "needs_background": "light"
          }
        }
      ]
    },
    {
      "cell_type": "code",
      "metadata": {
        "id": "x9ApG1-od57O",
        "colab_type": "code",
        "colab": {
          "base_uri": "https://localhost:8080/",
          "height": 35
        },
        "outputId": "470bd7ee-4b16-4b57-8158-5fe0fa62485c"
      },
      "source": [
        "counts = df.Class.value_counts()\n",
        "valid = counts[0]\n",
        "fraudulent = counts[1]\n",
        "perc_valid = (valid/(+fraudulent))*100\n",
        "perc_fraudulent = (fraudulent/(valid+fraudulent))*100\n",
        "print('There were {} non-fraudulent transactions ({:.3f}%) {} fraudulent transactions ({:.3f}%).'.format(valid, perc_valid, fraudulent, perc_fraudulent))"
      ],
      "execution_count": null,
      "outputs": [
        {
          "output_type": "stream",
          "text": [
            "There were 284315 non-fraudulent transactions (57787.602%) 492 fraudulent transactions (0.173%).\n"
          ],
          "name": "stdout"
        }
      ]
    },
    {
      "cell_type": "code",
      "metadata": {
        "id": "1dVT4AG_bDk2",
        "colab_type": "code",
        "colab": {
          "base_uri": "https://localhost:8080/",
          "height": 421
        },
        "outputId": "bd05b524-aa5b-414c-b389-d921b1648144"
      },
      "source": [
        "plt.figure(figsize=(8,6))\n",
        "sns.barplot(x=counts.index,y=counts)\n",
        "plt.title('Count of Fraudulent vs. Non-Fraudulent Transactions')\n",
        "plt.ylabel('Count')\n",
        "plt.xlabel('Class (0:Non-Fraudulent, 1:Fraudulent)')"
      ],
      "execution_count": null,
      "outputs": [
        {
          "output_type": "execute_result",
          "data": {
            "text/plain": [
              "Text(0.5, 0, 'Class (0:Non-Fraudulent, 1:Fraudulent)')"
            ]
          },
          "metadata": {
            "tags": []
          },
          "execution_count": 41
        },
        {
          "output_type": "display_data",
          "data": {
            "image/png": "[encoded data removed]",
            "text/plain": [
              "<Figure size 576x432 with 1 Axes>"
            ]
          },
          "metadata": {
            "tags": []
          }
        }
      ]
    },
    {
      "cell_type": "markdown",
      "metadata": {
        "id": "mB1IcQSDceew",
        "colab_type": "text"
      },
      "source": [
        "### Box Plot and Whiskers "
      ]
    },
    {
      "cell_type": "code",
      "metadata": {
        "id": "bt0CUSk3cdkA",
        "colab_type": "code",
        "colab": {
          "base_uri": "https://localhost:8080/",
          "height": 279
        },
        "outputId": "f02bd46a-eb46-45db-e745-991f304d87a1"
      },
      "source": [
        "sns.boxplot(x ='Class' , y='Time' ,data = df)\n",
        "plt.show()"
      ],
      "execution_count": null,
      "outputs": [
        {
          "output_type": "display_data",
          "data": {
            "image/png": "[encoded data removed]",
            "text/plain": [
              "<Figure size 432x288 with 1 Axes>"
            ]
          },
          "metadata": {
            "tags": []
          }
        }
      ]
    },
    {
      "cell_type": "markdown",
      "metadata": {
        "id": "23fw57ULcuGA",
        "colab_type": "text"
      },
      "source": [
        "Observations:\n",
        "\n",
        "By looking at the above box plot we can say that both fraud & genuine transactions occur throughout time and there is no distinction between them."
      ]
    },
    {
      "cell_type": "code",
      "metadata": {
        "id": "X_LcIVgZc065",
        "colab_type": "code",
        "colab": {
          "base_uri": "https://localhost:8080/",
          "height": 283
        },
        "outputId": "c2402d66-a088-47b7-da03-00464c4b4326"
      },
      "source": [
        "sns.boxplot(x = \"Class\", y = \"Amount\", data = df)\n",
        "plt.ylim(0, 5000)\n",
        "plt.show()"
      ],
      "execution_count": null,
      "outputs": [
        {
          "output_type": "display_data",
          "data": {
            "image/png": "[encoded data removed]",
            "text/plain": [
              "<Figure size 432x288 with 1 Axes>"
            ]
          },
          "metadata": {
            "tags": []
          }
        }
      ]
    },
    {
      "cell_type": "markdown",
      "metadata": {
        "id": "gXZEd2mRc0hn",
        "colab_type": "text"
      },
      "source": [
        "Observations:\n",
        "\n",
        "From above box plot we can easily infer that there are no fraud transactions occur above the transaction amount of 3000. All of the fraud transactions have transaction amount less than 3000. However, there are many transactions which have a transaction amount greater than 3000 and all of them are genuine."
      ]
    },
    {
      "cell_type": "code",
      "metadata": {
        "id": "-el6xik6GonW",
        "colab_type": "code",
        "colab": {}
      },
      "source": [
        "# feature data (predictors)\n",
        "X = df.iloc[:, :-1]\n",
        "\n",
        "# label class\n",
        "y = df['Class']"
      ],
      "execution_count": null,
      "outputs": []
    },
    {
      "cell_type": "markdown",
      "metadata": {
        "id": "OjvB0V_TGx_1",
        "colab_type": "text"
      },
      "source": [
        "### Standardize data\n",
        "Scale the data to have zero mean and unit variance."
      ]
    },
    {
      "cell_type": "code",
      "metadata": {
        "id": "0ex5QdiTGfPu",
        "colab_type": "code",
        "colab": {}
      },
      "source": [
        "scaler = StandardScaler()\n",
        "scaled_X = scaler.fit_transform(X)"
      ],
      "execution_count": null,
      "outputs": []
    },
    {
      "cell_type": "markdown",
      "metadata": {
        "id": "UlmxoscQe1dj",
        "colab_type": "text"
      },
      "source": [
        "###  Separating the X and the Y values\n",
        "\n",
        "\n",
        "\n"
      ]
    },
    {
      "cell_type": "code",
      "metadata": {
        "id": "v_aPINpBdSeh",
        "colab_type": "code",
        "colab": {
          "base_uri": "https://localhost:8080/",
          "height": 52
        },
        "outputId": "d7fbacdd-453e-4e72-bf04-72ee9fff68f0"
      },
      "source": [
        "# Dividing the data into inputs parameters and outputs value format\n",
        "X = df.drop(['Class'], axis = 1)\n",
        "y = df['Class']\n",
        "print(X.shape)\n",
        "print(y.shape)\n",
        "Xdata = X.values\n",
        "ydata = y.values"
      ],
      "execution_count": null,
      "outputs": [
        {
          "output_type": "stream",
          "text": [
            "(284807, 30)\n",
            "(284807,)\n"
          ],
          "name": "stdout"
        }
      ]
    },
    {
      "cell_type": "markdown",
      "metadata": {
        "id": "POAq-ftfgE_u",
        "colab_type": "text"
      },
      "source": [
        "### Training and Testing Data Bifurcation"
      ]
    },
    {
      "cell_type": "markdown",
      "metadata": {
        "id": "IfpQJ_rhhBUg",
        "colab_type": "text"
      },
      "source": [
        "We will be dividing the dataset into two main groups. One for **training** the model and the other for testing our trained modle's performance"
      ]
    },
    {
      "cell_type": "code",
      "metadata": {
        "id": "gvcGAMebgAC_",
        "colab_type": "code",
        "colab": {}
      },
      "source": [
        "# Using Skicit-learn to split data into training and testing sets\n",
        "from sklearn.model_selection import train_test_split\n",
        "\n",
        "# Split the data into training and testing sets\n",
        "X_train,X_test,y_train,y_test = train_test_split(Xdata,ydata,test_size = 0.2, random_state = 42)"
      ],
      "execution_count": null,
      "outputs": []
    },
    {
      "cell_type": "markdown",
      "metadata": {
        "id": "Z1nRhHGvHZEy",
        "colab_type": "text"
      },
      "source": [
        "### **Data Sampling**\n",
        "As noted earlier, the dataset is unbalanced. Training unbalanced dataset with learning algorithms may lead to misclassification of minority class. Therefore, to compensate for the unbalancedness, we will use ADASYN oversampling method as implemented in imbalanced-learn package to resample the dataset.\n",
        "ADASYN (ADAptive SYNthetic) is an oversampling technique that adaptively generates minority data samples according to their distributions using K nearest neighbor."
      ]
    },
    {
      "cell_type": "code",
      "metadata": {
        "id": "siJMLZbTHqCQ",
        "colab_type": "code",
        "colab": {
          "base_uri": "https://localhost:8080/",
          "height": 108
        },
        "outputId": "24feb5fe-3c18-41e9-a8e2-b45f9853183f"
      },
      "source": [
        "# apply the ADASYN over-sampling\n",
        "ada = ADASYN(random_state=42)\n",
        "print('Original dataset shape {}'.format(Counter(y_train)))\n",
        "X_res, y_res = ada.fit_sample(X_train, y_train)\n",
        "print('Resampled dataset shape {}'.format(Counter(y_res)))"
      ],
      "execution_count": null,
      "outputs": [
        {
          "output_type": "stream",
          "text": [
            "Original dataset shape Counter({0: 227451, 1: 394})\n"
          ],
          "name": "stdout"
        },
        {
          "output_type": "stream",
          "text": [
            "/usr/local/lib/python3.6/dist-packages/sklearn/utils/deprecation.py:87: FutureWarning: Function safe_indexing is deprecated; safe_indexing is deprecated in version 0.22 and will be removed in version 0.24.\n",
            "  warnings.warn(msg, category=FutureWarning)\n"
          ],
          "name": "stderr"
        },
        {
          "output_type": "stream",
          "text": [
            "Resampled dataset shape Counter({0: 227451, 1: 227373})\n"
          ],
          "name": "stdout"
        }
      ]
    },
    {
      "cell_type": "markdown",
      "metadata": {
        "id": "aDpUf5mzIP4X",
        "colab_type": "text"
      },
      "source": [
        "### Training the  Models\n",
        "Three machine learning algorithms: \n"
      ]
    },
    {
      "cell_type": "markdown",
      "metadata": {
        "id": "Vtyg9_IaJX4j",
        "colab_type": "text"
      },
      "source": [
        "##### Logistic Regression\n"
      ]
    },
    {
      "cell_type": "markdown",
      "metadata": {
        "id": "fvidKNq5Jb_o",
        "colab_type": "text"
      },
      "source": [
        "#####  Naive Baye\n"
      ]
    },
    {
      "cell_type": "code",
      "metadata": {
        "id": "nwyryX3tIbG0",
        "colab_type": "code",
        "colab": {}
      },
      "source": [
        "X_train, y_train = X_res, y_res \n",
        "\n",
        "# Train LogisticRegression Model\n",
        "LGR_Classifier = LogisticRegression()\n",
        "LGR_Classifier.fit(X_train, y_train);\n",
        "\n",
        "\n",
        "# Train Bernoulli Naive Baye Model\n",
        "BNB_Classifier = BernoulliNB()\n",
        "BNB_Classifier.fit(X_train, y_train);"
      ],
      "execution_count": null,
      "outputs": []
    },
    {
      "cell_type": "code",
      "metadata": {
        "id": "9Tm4cdClIbd-",
        "colab_type": "code",
        "colab": {
          "base_uri": "https://localhost:8080/",
          "height": 1000
        },
        "outputId": "35e314b2-1938-4ff2-dea3-8a0cb8092d61"
      },
      "source": [
        "modlist = [('LogisticRegression', LGR_Classifier),\n",
        "('Naive Baiye Classifier', BNB_Classifier)] \n",
        "\n",
        "models = [j for j in modlist]\n",
        "\n",
        "print()\n",
        "print('========================== Model Evaluation Results ========================' \"\\n\")  \n",
        "\n",
        "for i, v in models:\n",
        "    scores = cross_val_score(v, X_train, y_train, cv=10)\n",
        "    accuracy = metrics.accuracy_score(y_train, v.predict(X_train))\n",
        "    confusion_matrix = metrics.confusion_matrix(y_train, v.predict(X_train))\n",
        "    classification = metrics.classification_report(y_train, v.predict(X_train))\n",
        "    print('===== {} ====='.format(i))\n",
        "    print()\n",
        "    print (\"Cross Validation Mean Score: \", '{}%'.format(np.round(scores.mean(), 3) * 100))  \n",
        "    print() \n",
        "    print (\"Model Accuracy: \", '{}%'.format(np.round(accuracy, 3) * 100)) \n",
        "    print()\n",
        "    print(\"Confusion Matrix:\" \"\\n\", confusion_matrix)\n",
        "    print()\n",
        "    print(\"Classification Report:\" \"\\n\", classification) \n",
        "    print()"
      ],
      "execution_count": null,
      "outputs": [
        {
          "output_type": "stream",
          "text": [
            "\n",
            "========================== Model Evaluation Results ========================\n",
            "\n"
          ],
          "name": "stdout"
        },
        {
          "output_type": "stream",
          "text": [
            "/usr/local/lib/python3.6/dist-packages/sklearn/linear_model/_logistic.py:940: ConvergenceWarning: lbfgs failed to converge (status=1):\n",
            "STOP: TOTAL NO. of ITERATIONS REACHED LIMIT.\n",
            "\n",
            "Increase the number of iterations (max_iter) or scale the data as shown in:\n",
            "    https://scikit-learn.org/stable/modules/preprocessing.html\n",
            "Please also refer to the documentation for alternative solver options:\n",
            "    https://scikit-learn.org/stable/modules/linear_model.html#logistic-regression\n",
            "  extra_warning_msg=_LOGISTIC_SOLVER_CONVERGENCE_MSG)\n",
            "/usr/local/lib/python3.6/dist-packages/sklearn/linear_model/_logistic.py:940: ConvergenceWarning: lbfgs failed to converge (status=1):\n",
            "STOP: TOTAL NO. of ITERATIONS REACHED LIMIT.\n",
            "\n",
            "Increase the number of iterations (max_iter) or scale the data as shown in:\n",
            "    https://scikit-learn.org/stable/modules/preprocessing.html\n",
            "Please also refer to the documentation for alternative solver options:\n",
            "    https://scikit-learn.org/stable/modules/linear_model.html#logistic-regression\n",
            "  extra_warning_msg=_LOGISTIC_SOLVER_CONVERGENCE_MSG)\n",
            "/usr/local/lib/python3.6/dist-packages/sklearn/linear_model/_logistic.py:940: ConvergenceWarning: lbfgs failed to converge (status=1):\n",
            "STOP: TOTAL NO. of ITERATIONS REACHED LIMIT.\n",
            "\n",
            "Increase the number of iterations (max_iter) or scale the data as shown in:\n",
            "    https://scikit-learn.org/stable/modules/preprocessing.html\n",
            "Please also refer to the documentation for alternative solver options:\n",
            "    https://scikit-learn.org/stable/modules/linear_model.html#logistic-regression\n",
            "  extra_warning_msg=_LOGISTIC_SOLVER_CONVERGENCE_MSG)\n",
            "/usr/local/lib/python3.6/dist-packages/sklearn/linear_model/_logistic.py:940: ConvergenceWarning: lbfgs failed to converge (status=1):\n",
            "STOP: TOTAL NO. of ITERATIONS REACHED LIMIT.\n",
            "\n",
            "Increase the number of iterations (max_iter) or scale the data as shown in:\n",
            "    https://scikit-learn.org/stable/modules/preprocessing.html\n",
            "Please also refer to the documentation for alternative solver options:\n",
            "    https://scikit-learn.org/stable/modules/linear_model.html#logistic-regression\n",
            "  extra_warning_msg=_LOGISTIC_SOLVER_CONVERGENCE_MSG)\n"
          ],
          "name": "stderr"
        },
        {
          "output_type": "stream",
          "text": [
            "===== LogisticRegression =====\n",
            "\n",
            "Cross Validation Mean Score:  96.7%\n",
            "\n",
            "Model Accuracy:  97.1%\n",
            "\n",
            "Confusion Matrix:\n",
            " [[222851   4600]\n",
            " [  8806 218567]]\n",
            "\n",
            "Classification Report:\n",
            "               precision    recall  f1-score   support\n",
            "\n",
            "           0       0.96      0.98      0.97    227451\n",
            "           1       0.98      0.96      0.97    227373\n",
            "\n",
            "    accuracy                           0.97    454824\n",
            "   macro avg       0.97      0.97      0.97    454824\n",
            "weighted avg       0.97      0.97      0.97    454824\n",
            "\n",
            "\n",
            "===== Naive Baiye Classifier =====\n",
            "\n",
            "Cross Validation Mean Score:  94.0%\n",
            "\n",
            "Model Accuracy:  94.0%\n",
            "\n",
            "Confusion Matrix:\n",
            " [[226656    795]\n",
            " [ 26469 200904]]\n",
            "\n",
            "Classification Report:\n",
            "               precision    recall  f1-score   support\n",
            "\n",
            "           0       0.90      1.00      0.94    227451\n",
            "           1       1.00      0.88      0.94    227373\n",
            "\n",
            "    accuracy                           0.94    454824\n",
            "   macro avg       0.95      0.94      0.94    454824\n",
            "weighted avg       0.95      0.94      0.94    454824\n",
            "\n",
            "\n"
          ],
          "name": "stdout"
        }
      ]
    },
    {
      "cell_type": "markdown",
      "metadata": {
        "id": "fgnoPPfJI8G2",
        "colab_type": "text"
      },
      "source": [
        "### Test models"
      ]
    },
    {
      "cell_type": "markdown",
      "metadata": {
        "id": "EW77HZOYJCsK",
        "colab_type": "text"
      },
      "source": [
        "#### Logistic Regression\n"
      ]
    },
    {
      "cell_type": "markdown",
      "metadata": {
        "id": "9SPEWIPvJN2q",
        "colab_type": "text"
      },
      "source": [
        "#### Naive Bayes "
      ]
    },
    {
      "cell_type": "code",
      "metadata": {
        "id": "RepRyZsfIbma",
        "colab_type": "code",
        "colab": {
          "base_uri": "https://localhost:8080/",
          "height": 746
        },
        "outputId": "a7628af0-bd3f-4326-b3d4-2e362fe05481"
      },
      "source": [
        "# Test models\n",
        "classdict = {'normal':0, 'fraudulent':1}\n",
        "print()\n",
        "print('========================== Model Test Results ========================' \"\\n\")   \n",
        "\n",
        "for i, v in models:\n",
        "    accuracy = metrics.accuracy_score(y_test, v.predict(X_test))\n",
        "    confusion_matrix = metrics.confusion_matrix(y_test, v.predict(X_test))\n",
        "    classification = metrics.classification_report(y_test, v.predict(X_test))   \n",
        "    print('=== {} ==='.format(i))\n",
        "    print (\"Model Accuracy: \",  '{}%'.format(np.round(accuracy, 3) * 100))\n",
        "    print()\n",
        "    print(\"Confusion Matrix:\" \"\\n\", confusion_matrix)\n",
        "    print()\n",
        "   # pf.plot_confusion_matrix(confusion_matrix, classes = list(classdict.keys()), title='Confusion Matrix Plot', cmap=plt.cm.summer)\n",
        "    print() \n",
        "    print(\"Classification Report:\" \"\\n\", classification) \n",
        "    print() "
      ],
      "execution_count": null,
      "outputs": [
        {
          "output_type": "stream",
          "text": [
            "\n",
            "========================== Model Test Results ========================\n",
            "\n",
            "=== LogisticRegression ===\n",
            "Model Accuracy:  98.0%\n",
            "\n",
            "Confusion Matrix:\n",
            " [[55722  1142]\n",
            " [   10    88]]\n",
            "\n",
            "\n",
            "Classification Report:\n",
            "               precision    recall  f1-score   support\n",
            "\n",
            "           0       1.00      0.98      0.99     56864\n",
            "           1       0.07      0.90      0.13        98\n",
            "\n",
            "    accuracy                           0.98     56962\n",
            "   macro avg       0.54      0.94      0.56     56962\n",
            "weighted avg       1.00      0.98      0.99     56962\n",
            "\n",
            "\n",
            "=== Naive Baiye Classifier ===\n",
            "Model Accuracy:  99.6%\n",
            "\n",
            "Confusion Matrix:\n",
            " [[56678   186]\n",
            " [   18    80]]\n",
            "\n",
            "\n",
            "Classification Report:\n",
            "               precision    recall  f1-score   support\n",
            "\n",
            "           0       1.00      1.00      1.00     56864\n",
            "           1       0.30      0.82      0.44        98\n",
            "\n",
            "    accuracy                           1.00     56962\n",
            "   macro avg       0.65      0.91      0.72     56962\n",
            "weighted avg       1.00      1.00      1.00     56962\n",
            "\n",
            "\n"
          ],
          "name": "stdout"
        }
      ]
    },
    {
      "cell_type": "markdown",
      "metadata": {
        "id": "qNxraGM5I2vc",
        "colab_type": "text"
      },
      "source": [
        "#### Confusion matrix for Naive Bayes Algorithm"
      ]
    },
    {
      "cell_type": "code",
      "metadata": {
        "id": "e462H78VGdzK",
        "colab_type": "code",
        "colab": {
          "base_uri": "https://localhost:8080/",
          "height": 404
        },
        "outputId": "762187d4-1614-4bd5-9832-82a6bcd4c9fc"
      },
      "source": [
        "LABELS = ['Normal', 'Fraud'] \n",
        "conf_matrix = metrics.confusion_matrix(y_test, v.predict(X_test))  \n",
        "plt.figure(figsize =(6, 6)) \n",
        "sns.heatmap(conf_matrix, xticklabels = LABELS,  \n",
        "            yticklabels = LABELS, annot = True, fmt =\"d\"); \n",
        "plt.title(\"Confusion matrix for Naive Bayes Algorithm\") \n",
        "plt.ylabel('True class') \n",
        "plt.xlabel('Predicted class') \n",
        "plt.show() "
      ],
      "execution_count": null,
      "outputs": [
        {
          "output_type": "display_data",
          "data": {
            "image/png": "[encoded data removed]",
            "text/plain": [
              "<Figure size 432x432 with 2 Axes>"
            ]
          },
          "metadata": {
            "tags": []
          }
        }
      ]
    },
    {
      "cell_type": "markdown",
      "metadata": {
        "id": "uK1Iuus2H-ZD",
        "colab_type": "text"
      },
      "source": [
        "### Random Forest Model"
      ]
    },
    {
      "cell_type": "markdown",
      "metadata": {
        "id": "SpkWKjhCJxnJ",
        "colab_type": "text"
      },
      "source": [
        "### Training and testing using RandomForest classifiers."
      ]
    },
    {
      "cell_type": "markdown",
      "metadata": {
        "id": "B2L3fAUJjFoo",
        "colab_type": "text"
      },
      "source": [
        "#### Building a  Random Forest Model  using skicit learn\n",
        "\n"
      ]
    },
    {
      "cell_type": "code",
      "metadata": {
        "id": "mHkDpeeeixRk",
        "colab_type": "code",
        "colab": {}
      },
      "source": [
        "# Building the Random Forest Classifier (RANDOM FOREST) \n",
        "from sklearn.ensemble import RandomForestClassifier\n",
        "X_train,y_train = X_res,y_res\n",
        "\n",
        "# random forest model creation\n",
        "rfc = RandomForestClassifier()\n",
        "rfc.fit(X_train,y_train);\n",
        "\n",
        "# Prediction\n",
        "y_pred = rfc.predict(X_test);"
      ],
      "execution_count": null,
      "outputs": []
    },
    {
      "cell_type": "markdown",
      "metadata": {
        "id": "1hDs5pzor-Hz",
        "colab_type": "text"
      },
      "source": [
        "####  Building all kinds of evaluating parameters"
      ]
    },
    {
      "cell_type": "code",
      "metadata": {
        "id": "J2GaHcpQi_lJ",
        "colab_type": "code",
        "colab": {}
      },
      "source": [
        "from sklearn.metrics import classification_report, accuracy_score\n",
        "from sklearn.metrics import precision_score, recall_score\n",
        "from sklearn.metrics import f1_score, matthews_corrcoef\n",
        "from sklearn.metrics import confusion_matrix\n"
      ],
      "execution_count": null,
      "outputs": []
    },
    {
      "cell_type": "code",
      "metadata": {
        "id": "2bW2s9mmi_py",
        "colab_type": "code",
        "colab": {
          "base_uri": "https://localhost:8080/",
          "height": 124
        },
        "outputId": "bbc9f561-0a3a-49f5-8d08-4decb81a7112"
      },
      "source": [
        "n_outliers = len(fraud) \n",
        "n_errors = (y_pred != y_test).sum() \n",
        "print(\"The model used is Random Forest classifier\") \n",
        "  \n",
        "acc = accuracy_score(y_test, y_pred) \n",
        "print(\"The accuracy is {}\".format(acc)) \n",
        "  \n",
        "prec = precision_score(y_test, y_pred) \n",
        "print(\"The precision is {}\".format(prec)) \n",
        "  \n",
        "rec = recall_score(y_test, y_pred) \n",
        "print(\"The recall is {}\".format(rec)) \n",
        "  \n",
        "f1 = f1_score(y_test, y_pred) \n",
        "print(\"The F1-Score is {}\".format(f1)) \n",
        "  \n",
        "MCC = matthews_corrcoef(y_test, y_pred) \n",
        "print(\"The Matthews correlation coefficient is{}\".format(MCC)) "
      ],
      "execution_count": null,
      "outputs": [
        {
          "output_type": "stream",
          "text": [
            "The model used is Random Forest classifier\n",
            "The accuracy is 0.9995259997893332\n",
            "The precision is 0.8817204301075269\n",
            "The recall is 0.8367346938775511\n",
            "The F1-Score is 0.8586387434554974\n",
            "The Matthews correlation coefficient is0.8586967748445028\n"
          ],
          "name": "stdout"
        }
      ]
    },
    {
      "cell_type": "markdown",
      "metadata": {
        "id": "LARM-h-Cta9e",
        "colab_type": "text"
      },
      "source": [
        "#### Visulalizing the Confusion Matrix"
      ]
    },
    {
      "cell_type": "code",
      "metadata": {
        "id": "-Rzm28x9i_tH",
        "colab_type": "code",
        "colab": {
          "base_uri": "https://localhost:8080/",
          "height": 404
        },
        "outputId": "04862dd0-2422-48d2-ab98-2b20e056c7f5"
      },
      "source": [
        "# printing the confusion matrix \n",
        "LABELS = ['Normal', 'Fraud'] \n",
        "conf_matrix = confusion_matrix(y_test, y_pred) \n",
        "plt.figure(figsize =(6, 6)) \n",
        "sns.heatmap(conf_matrix, xticklabels = LABELS,  \n",
        "            yticklabels = LABELS, annot = True, fmt =\"d\"); \n",
        "plt.title(\"Confusion matrix\") \n",
        "plt.ylabel('True class') \n",
        "plt.xlabel('Predicted class') \n",
        "plt.show() "
      ],
      "execution_count": null,
      "outputs": [
        {
          "output_type": "display_data",
          "data": {
            "image/png": "[encoded data removed]",
            "text/plain": [
              "<Figure size 432x432 with 2 Axes>"
            ]
          },
          "metadata": {
            "tags": []
          }
        }
      ]
    },
    {
      "cell_type": "markdown",
      "metadata": {
        "id": "mjZ3CGfjvVx0",
        "colab_type": "text"
      },
      "source": [
        "#### Conclusion : \n",
        "\n",
        ".\n"
      ]
    },
    {
      "cell_type": "markdown",
      "metadata": {
        "id": "SPxYi0BKs6Bp",
        "colab_type": "text"
      },
      "source": [
        "Best Model among above three are Naive Bayes Algorithm . The Accuracy of predicting the Output is high by using this Algorithm . "
      ]
    },
    {
      "cell_type": "markdown",
      "metadata": {
        "id": "DL2l5qb6uuxx",
        "colab_type": "text"
      },
      "source": [
        "colab link : https://colab.research.google.com/drive/1gKQ1u4MK66ZYwhN_jm5VeEMJqMhpp9VW?usp=sharing&authuser=1"
      ]
    },
    {
      "cell_type": "code",
      "metadata": {
        "id": "7FLN0FWw22vH",
        "colab_type": "code",
        "colab": {}
      },
      "source": [
        ""
      ],
      "execution_count": null,
      "outputs": []
    }
  ]
}